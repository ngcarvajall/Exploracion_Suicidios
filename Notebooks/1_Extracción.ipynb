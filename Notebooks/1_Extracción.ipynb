{
 "cells": [
  {
   "cell_type": "code",
   "execution_count": 2,
   "id": "da681e22",
   "metadata": {},
   "outputs": [],
   "source": [
    "# Importamos las librerías que necesitamos\n",
    "\n",
    "# Librerías de extracción de datos\n",
    "# -----------------------------------------------------------------------\n",
    "\n",
    "%load_ext autoreload\n",
    "%autoreload 2\n",
    "\n",
    "# Importaciones:\n",
    "# Beautifulsoup\n",
    "from bs4 import BeautifulSoup\n",
    "\n",
    "# Requests\n",
    "import requests\n",
    "\n",
    "import pandas as pd\n",
    "import numpy as np\n",
    "\n",
    "from time import sleep\n",
    "\n",
    "# Importar librerías para automatización de navegadores web con Selenium\n",
    "# -----------------------------------------------------------------------\n",
    "from selenium import webdriver  # Selenium es una herramienta para automatizar la interacción con navegadores web.\n",
    "from webdriver_manager.chrome import ChromeDriverManager  # ChromeDriverManager gestiona la instalación del controlador de Chrome.\n",
    "from selenium.webdriver.common.keys import Keys  # Keys es útil para simular eventos de teclado en Selenium.\n",
    "from selenium.webdriver.support.ui import Select  # Select se utiliza para interactuar con elementos <select> en páginas web.\n",
    "from selenium.webdriver.support.ui import WebDriverWait\n",
    "from selenium.webdriver.support import expected_conditions as EC\n",
    "from selenium.common.exceptions import NoSuchElementException # Excepciones comunes de selenium que nos podemos encontrar \n",
    "\n",
    "import warnings\n",
    "warnings.filterwarnings('ignore')\n",
    "pd.options.display.float_format = '{:.2f}'.format\n",
    "pd.set_option('display.max_columns', None)"
   ]
  },
  {
   "cell_type": "markdown",
   "id": "03596b3f",
   "metadata": {},
   "source": [
    "## Tabla principal de Suicidios"
   ]
  },
  {
   "cell_type": "code",
   "execution_count": 4,
   "id": "54fe12fa",
   "metadata": {},
   "outputs": [],
   "source": [
    "driver = webdriver.Chrome()\n",
    "url_suicidios = \"https://www.one.gob.do/datos-y-estadisticas/\"\n",
    "driver.get(url_suicidios)\n",
    "driver.maximize_window()\n",
    "\n",
    "sleep(1)\n",
    "\n",
    "try:\n",
    "    driver.find_element(\"xpath\", '/html/body/div[7]/section/div/ul/li[2]/a').click()\n",
    "except:\n",
    "    print('No encuentro el botón')\n",
    "\n",
    "sleep(2)\n",
    "\n",
    "for i in range(3):\n",
    "    try:\n",
    "        driver.execute_script(\"window.scrollBy(0, 400);\")  # Desplazarse 1000 píxeles hacia abajo\n",
    "        sleep(2)\n",
    "    except:\n",
    "        print('No he podido descender')\n",
    "\n",
    "try: \n",
    "    driver.find_element(\"xpath\", '/html/body/div[7]/section/div/div[3]/div[2]/div/div[2]/div[2]/div/div/div[2]/header/div[2]').click()\n",
    "except:\n",
    "    print('No encuentro el botón para ampliar muertes')\n",
    "sleep(2)\n",
    "\n",
    "try: \n",
    "    driver.find_element(\"xpath\", '/html/body/div[7]/section/div/div[3]/div[2]/div/div[2]/div[2]/div/div/div[2]/div/header/div[1]').click()\n",
    "except:\n",
    "    print('No encuentro el botón para abrir pestañas')\n",
    "sleep(2)\n",
    "\n",
    "try: \n",
    "    driver.find_element(\"xpath\", '/html/body/div[7]/section/div/div[3]/div[2]/div/div[2]/div[2]/div/div/div[2]/div/div/div/div/div[2]/div/table/tbody/tr[5]/td/a/div[2]/h5').click()\n",
    "except:\n",
    "    print('No encuentro el botón para descargar el diccionario de suicidios')\n",
    "sleep(2)\n",
    "\n",
    "try:\n",
    "    driver.execute_script(\"window.scrollBy(0, 400);\")  # Desplazarse 1000 píxeles hacia abajo\n",
    "    sleep(2)\n",
    "except:\n",
    "    print('No he podido descender')\n",
    "\n",
    "try: \n",
    "    driver.find_element(\"xpath\", '/html/body/div[7]/section/div/div[3]/div[2]/div/div[2]/div[2]/div/div/div[2]/div/div/div/div/div[2]/div/table/tbody/tr[15]/td/a/div[2]/h5').click()\n",
    "except:\n",
    "    print('No encuentro el botón para descargar el diccionario de suicidios')\n",
    "sleep(2)"
   ]
  },
  {
   "cell_type": "markdown",
   "id": "3e2d38d9",
   "metadata": {},
   "source": [
    "## Tablas secundarias"
   ]
  },
  {
   "cell_type": "code",
   "execution_count": 42,
   "id": "97bb0e65",
   "metadata": {},
   "outputs": [],
   "source": [
    "driver = webdriver.Chrome()\n",
    "url_defunciones = \"file:///C:/Users/DELL/Downloads/Libro%20de%20c%C3%B3digos%20de%20variable%20de%20defunciones%20por%20suicidios%202007_2023.htm\"\n",
    "driver.get(url_defunciones)\n",
    "driver.maximize_window()\n",
    "\n",
    "sleep(1)  # Esperar un segundo entre cada scroll"
   ]
  },
  {
   "cell_type": "code",
   "execution_count": 43,
   "id": "028efc97",
   "metadata": {},
   "outputs": [
    {
     "name": "stdout",
     "output_type": "stream",
     "text": [
      "Se generaron 12 DataFrames.\n"
     ]
    }
   ],
   "source": [
    "sopa_defunciones = BeautifulSoup(driver.page_source) # saco la sopa de tablas\n",
    "lista_tablas = sopa_defunciones.findAll('div', {'class': 'itemBody'})\n",
    "\n",
    "dataframes = []\n",
    "\n",
    "for i, tabla in enumerate(lista_tablas):\n",
    "    rows = tabla.find_all('tr')\n",
    "\n",
    "    data = []\n",
    "    for row in rows:\n",
    "        cells = row.find_all('td') #saco el contenido de cada celda\n",
    "        data.append([cell.get_text(strip=True) for cell in cells if cell.get_text(strip=True)])\n",
    "\n",
    "    df = pd.DataFrame(data)\n",
    "\n",
    "    dataframes.append(df) #paso el df a una lista de dfs\n",
    "\n",
    "print(f\"Se generaron {len(dataframes)} DataFrames.\")"
   ]
  },
  {
   "cell_type": "code",
   "execution_count": 44,
   "id": "098fa5d2",
   "metadata": {},
   "outputs": [],
   "source": [
    "## saco los dfs de manera individual\n",
    "df_region = dataframes[1] \n",
    "df_provincia = dataframes[2]\n",
    "df_diasem = dataframes[3]\n",
    "df_mes = dataframes[4]\n",
    "df_rhora = dataframes[6]\n",
    "df_genero = dataframes[7]\n",
    "df_lugar = dataframes[8]\n",
    "df_medio = dataframes[9]\n",
    "df_motivo = dataframes[10]\n",
    "df_grupoedad = dataframes[11]"
   ]
  },
  {
   "cell_type": "code",
   "execution_count": 47,
   "id": "6cb46d0f",
   "metadata": {},
   "outputs": [],
   "source": [
    "dataframes_list = [\n",
    "    df_region, df_provincia, df_diasem, df_mes, df_rhora,\n",
    "    df_genero, df_lugar, df_medio, df_motivo, df_grupoedad]\n",
    "\n",
    "for i, df in enumerate(dataframes_list):\n",
    "    # me quedo con las filas a partir de la fila 3 porque así me quedo solo con el contenido\n",
    "    df = df.iloc[2:]\n",
    "    \n",
    "    # coloco el primer valor en su lugar, ya que viene en la columna equivocada\n",
    "    df.iloc[0, 1] = df.iloc[0, 2]\n",
    "    df.iloc[0,0] = 1\n",
    "    \n",
    "    # me quedo solo la primera columna\n",
    "    df = df[[0,1]]\n",
    "    df = df[:-1]\n",
    "    df.columns = ['Valor', 'Significado']\n",
    "    df['Valor'] = df['Valor'].astype('int64')\n",
    "\n",
    "    # reinicio el índice\n",
    "    df.reset_index(drop=True, inplace=True)\n",
    "    \n",
    "    # guardo el df transformado de nuevo en la lista\n",
    "    dataframes_list[i] = df\n",
    "\n",
    "# Asignar los DataFrames de vuelta a sus variables\n",
    "df_region, df_provincia, df_diasem, df_mes, df_rhora, \\\n",
    "df_genero, df_lugar, df_medio, df_motivo, \\\n",
    "df_grupoedad = dataframes_list"
   ]
  },
  {
   "cell_type": "code",
   "execution_count": 50,
   "id": "abd0ec67",
   "metadata": {},
   "outputs": [],
   "source": [
    "## guardo mis data frames\n",
    "\n",
    "dataframes = [\n",
    "    (df_diasem, 'df_diasem.csv'),\n",
    "    (df_mes, 'df_mes.csv'),\n",
    "    (df_rhora, 'df_rhora.csv'),\n",
    "    (df_region, 'df_region.csv'),\n",
    "    (df_provincia, 'df_provincia.csv'),\n",
    "    (df_lugar, 'df_lugar.csv'),\n",
    "    (df_medio, 'df_medio.csv'),\n",
    "    (df_genero, 'df_genero.csv'),\n",
    "    (df_motivo, 'df_motivo.csv'),\n",
    "    (df_grupoedad, 'df_grupoedad.csv')\n",
    "]\n",
    "\n",
    "for df, filename in dataframes:\n",
    "    df.to_csv(f'../Datos/{filename}')"
   ]
  },
  {
   "cell_type": "code",
   "execution_count": null,
   "id": "9512e801",
   "metadata": {},
   "outputs": [],
   "source": []
  }
 ],
 "metadata": {
  "kernelspec": {
   "display_name": "Python 3",
   "language": "python",
   "name": "python3"
  },
  "language_info": {
   "codemirror_mode": {
    "name": "ipython",
    "version": 3
   },
   "file_extension": ".py",
   "mimetype": "text/x-python",
   "name": "python",
   "nbconvert_exporter": "python",
   "pygments_lexer": "ipython3",
   "version": "3.11.9"
  }
 },
 "nbformat": 4,
 "nbformat_minor": 5
}
