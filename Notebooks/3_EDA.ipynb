{
 "cells": [
  {
   "cell_type": "code",
   "execution_count": 1,
   "id": "4f4c879a",
   "metadata": {},
   "outputs": [],
   "source": [
    "# Importamos las librerías que necesitamos\n",
    "\n",
    "# Librerías de extracción de datos\n",
    "# -----------------------------------------------------------------------\n",
    "\n",
    "%load_ext autoreload\n",
    "%autoreload 2\n",
    "\n",
    "# Visualizaciones\n",
    "# -----------------------------------------------------------------------\n",
    "import seaborn as sns\n",
    "import matplotlib.pyplot as plt\n",
    "import plotly_express as px\n",
    "\n",
    "import sys\n",
    "sys.path.append('..')\n",
    "from src import funciones as f\n",
    "\n",
    "import pandas as pd\n",
    "import numpy as np\n",
    "\n",
    "\n",
    "import warnings\n",
    "warnings.filterwarnings('ignore')\n",
    "pd.options.display.float_format = '{:.2f}'.format\n",
    "pd.set_option('display.max_columns', None)"
   ]
  },
  {
   "cell_type": "code",
   "execution_count": 2,
   "id": "576b5006",
   "metadata": {},
   "outputs": [],
   "source": [
    "df = pd.read_csv('../Datos/df_decodificado.csv', index_col=0)"
   ]
  },
  {
   "cell_type": "code",
   "execution_count": 3,
   "id": "74a113ec",
   "metadata": {},
   "outputs": [
    {
     "data": {
      "application/vnd.microsoft.datawrangler.viewer.v0+json": {
       "columns": [
        {
         "name": "index",
         "rawType": "int64",
         "type": "integer"
        },
        {
         "name": "region",
         "rawType": "object",
         "type": "string"
        },
        {
         "name": "provincia",
         "rawType": "object",
         "type": "string"
        },
        {
         "name": "diasemana",
         "rawType": "object",
         "type": "string"
        },
        {
         "name": "mesocu",
         "rawType": "object",
         "type": "string"
        },
        {
         "name": "anoocu",
         "rawType": "int64",
         "type": "integer"
        },
        {
         "name": "rhora",
         "rawType": "object",
         "type": "string"
        },
        {
         "name": "sexo",
         "rawType": "object",
         "type": "string"
        },
        {
         "name": "lugarocu",
         "rawType": "object",
         "type": "string"
        },
        {
         "name": "medioemp",
         "rawType": "object",
         "type": "string"
        },
        {
         "name": "motivo",
         "rawType": "object",
         "type": "string"
        },
        {
         "name": "grupoedad",
         "rawType": "object",
         "type": "string"
        }
       ],
       "conversionMethod": "pd.DataFrame",
       "ref": "e297ac73-cbdf-419e-b17c-db6be0855663",
       "rows": [
        [
         "0",
         "Región Cibao Norte",
         "Espaillat",
         "No declarado",
         "Noviembre",
         "2007",
         "No declarado",
         "Hombres",
         "Vivienda, domicilio o residencia",
         "Sustancia tóxica, veneno",
         "Conflicto familiar, violencia intrafamiliar y de género",
         "No declarado"
        ],
        [
         "1",
         "Región Cibao Norte",
         "Espaillat",
         "No declarado",
         "Julio",
         "2007",
         "No declarado",
         "Hombres",
         "Vivienda, domicilio o residencia",
         "Sustancia tóxica, veneno",
         "Otros problemas de salud",
         "35 - 39"
        ],
        [
         "2",
         "Región Cibao Norte",
         "Espaillat",
         "No declarado",
         "Septiembre",
         "2007",
         "No declarado",
         "Hombres",
         "Vivienda, domicilio o residencia",
         "Arma de fuego",
         "Otros",
         "20 - 24"
        ],
        [
         "3",
         "Región Cibao Norte",
         "Espaillat",
         "No declarado",
         "Enero",
         "2007",
         "No declarado",
         "Hombres",
         "Hotel, motel, pensión, cabaña",
         "Arma de fuego",
         "No declarado",
         "30 - 34"
        ],
        [
         "4",
         "Región Cibao Norte",
         "Espaillat",
         "No declarado",
         "Febrero",
         "2007",
         "No declarado",
         "Hombres",
         "Vía pública, parque",
         "Sustancia tóxica, veneno",
         "No declarado",
         "20 - 24"
        ]
       ],
       "shape": {
        "columns": 11,
        "rows": 5
       }
      },
      "text/html": [
       "<div>\n",
       "<style scoped>\n",
       "    .dataframe tbody tr th:only-of-type {\n",
       "        vertical-align: middle;\n",
       "    }\n",
       "\n",
       "    .dataframe tbody tr th {\n",
       "        vertical-align: top;\n",
       "    }\n",
       "\n",
       "    .dataframe thead th {\n",
       "        text-align: right;\n",
       "    }\n",
       "</style>\n",
       "<table border=\"1\" class=\"dataframe\">\n",
       "  <thead>\n",
       "    <tr style=\"text-align: right;\">\n",
       "      <th></th>\n",
       "      <th>region</th>\n",
       "      <th>provincia</th>\n",
       "      <th>diasemana</th>\n",
       "      <th>mesocu</th>\n",
       "      <th>anoocu</th>\n",
       "      <th>rhora</th>\n",
       "      <th>sexo</th>\n",
       "      <th>lugarocu</th>\n",
       "      <th>medioemp</th>\n",
       "      <th>motivo</th>\n",
       "      <th>grupoedad</th>\n",
       "    </tr>\n",
       "  </thead>\n",
       "  <tbody>\n",
       "    <tr>\n",
       "      <th>0</th>\n",
       "      <td>Región Cibao Norte</td>\n",
       "      <td>Espaillat</td>\n",
       "      <td>No declarado</td>\n",
       "      <td>Noviembre</td>\n",
       "      <td>2007</td>\n",
       "      <td>No declarado</td>\n",
       "      <td>Hombres</td>\n",
       "      <td>Vivienda, domicilio o residencia</td>\n",
       "      <td>Sustancia tóxica, veneno</td>\n",
       "      <td>Conflicto familiar, violencia intrafamiliar y ...</td>\n",
       "      <td>No declarado</td>\n",
       "    </tr>\n",
       "    <tr>\n",
       "      <th>1</th>\n",
       "      <td>Región Cibao Norte</td>\n",
       "      <td>Espaillat</td>\n",
       "      <td>No declarado</td>\n",
       "      <td>Julio</td>\n",
       "      <td>2007</td>\n",
       "      <td>No declarado</td>\n",
       "      <td>Hombres</td>\n",
       "      <td>Vivienda, domicilio o residencia</td>\n",
       "      <td>Sustancia tóxica, veneno</td>\n",
       "      <td>Otros problemas de salud</td>\n",
       "      <td>35 - 39</td>\n",
       "    </tr>\n",
       "    <tr>\n",
       "      <th>2</th>\n",
       "      <td>Región Cibao Norte</td>\n",
       "      <td>Espaillat</td>\n",
       "      <td>No declarado</td>\n",
       "      <td>Septiembre</td>\n",
       "      <td>2007</td>\n",
       "      <td>No declarado</td>\n",
       "      <td>Hombres</td>\n",
       "      <td>Vivienda, domicilio o residencia</td>\n",
       "      <td>Arma de fuego</td>\n",
       "      <td>Otros</td>\n",
       "      <td>20 - 24</td>\n",
       "    </tr>\n",
       "    <tr>\n",
       "      <th>3</th>\n",
       "      <td>Región Cibao Norte</td>\n",
       "      <td>Espaillat</td>\n",
       "      <td>No declarado</td>\n",
       "      <td>Enero</td>\n",
       "      <td>2007</td>\n",
       "      <td>No declarado</td>\n",
       "      <td>Hombres</td>\n",
       "      <td>Hotel, motel, pensión, cabaña</td>\n",
       "      <td>Arma de fuego</td>\n",
       "      <td>No declarado</td>\n",
       "      <td>30 - 34</td>\n",
       "    </tr>\n",
       "    <tr>\n",
       "      <th>4</th>\n",
       "      <td>Región Cibao Norte</td>\n",
       "      <td>Espaillat</td>\n",
       "      <td>No declarado</td>\n",
       "      <td>Febrero</td>\n",
       "      <td>2007</td>\n",
       "      <td>No declarado</td>\n",
       "      <td>Hombres</td>\n",
       "      <td>Vía pública, parque</td>\n",
       "      <td>Sustancia tóxica, veneno</td>\n",
       "      <td>No declarado</td>\n",
       "      <td>20 - 24</td>\n",
       "    </tr>\n",
       "  </tbody>\n",
       "</table>\n",
       "</div>"
      ],
      "text/plain": [
       "               region  provincia     diasemana      mesocu  anoocu  \\\n",
       "0  Región Cibao Norte  Espaillat  No declarado   Noviembre    2007   \n",
       "1  Región Cibao Norte  Espaillat  No declarado       Julio    2007   \n",
       "2  Región Cibao Norte  Espaillat  No declarado  Septiembre    2007   \n",
       "3  Región Cibao Norte  Espaillat  No declarado       Enero    2007   \n",
       "4  Región Cibao Norte  Espaillat  No declarado     Febrero    2007   \n",
       "\n",
       "          rhora     sexo                          lugarocu  \\\n",
       "0  No declarado  Hombres  Vivienda, domicilio o residencia   \n",
       "1  No declarado  Hombres  Vivienda, domicilio o residencia   \n",
       "2  No declarado  Hombres  Vivienda, domicilio o residencia   \n",
       "3  No declarado  Hombres     Hotel, motel, pensión, cabaña   \n",
       "4  No declarado  Hombres               Vía pública, parque   \n",
       "\n",
       "                   medioemp  \\\n",
       "0  Sustancia tóxica, veneno   \n",
       "1  Sustancia tóxica, veneno   \n",
       "2             Arma de fuego   \n",
       "3             Arma de fuego   \n",
       "4  Sustancia tóxica, veneno   \n",
       "\n",
       "                                              motivo     grupoedad  \n",
       "0  Conflicto familiar, violencia intrafamiliar y ...  No declarado  \n",
       "1                           Otros problemas de salud       35 - 39  \n",
       "2                                              Otros       20 - 24  \n",
       "3                                       No declarado       30 - 34  \n",
       "4                                       No declarado       20 - 24  "
      ]
     },
     "execution_count": 3,
     "metadata": {},
     "output_type": "execute_result"
    }
   ],
   "source": [
    "df.head()"
   ]
  },
  {
   "cell_type": "markdown",
   "id": "bef3f236",
   "metadata": {},
   "source": [
    "## Suicidios R.D. 2007 - 2023"
   ]
  },
  {
   "cell_type": "markdown",
   "id": "489c3b56",
   "metadata": {},
   "source": [
    "- No existen nulos, aunque sí duplicados. Sin embargo, estos pueden explicarse por similitud de escenarios ya que no existen variables como fecha exacta para determinar una diferencia más marcada. Aun así, es extaño que sean situaciones tan similares en particular si se encuentran los registros uno seguido del otro.\n",
    "- La región Ozama (específicamente SD) es la que posee mayor cantidad de suicidios. Seguido de Cibao Norte y Cibao Sur. Lógico a la ubicación de provincias importantes como Santigo y La Vega. \n",
    "- Aunque el día con mayores registros queda en 'No declarado', los días identificados son lunes y domingo.\n",
    "- Los meses con mayor cantidad de suicios son los de verano, julio y junio. \n",
    "- El horario más propenso a un suicidio va entre 8-10 AM, seguido de 10-12.\n",
    "- El lugar más señalado para ejecutar la acción es el propio hora, con un 55%. \n",
    "- Cerca del 60% son realizados a través de ahorcamiento o asfixia, le siguen las sustancias tóxicas y las armas de fuego. Estas últimas por debajo de un 20% ambas.\n",
    "- entre los motivos se encuentran muchos casos (más del 40%) sin declaración, entendible considerando el tipo de hecho. Le sigue factores que influyen de manera directa la salud mental: depresión, conflicto familiar-violencia.\n",
    "En general, el rango de edad con mayor presencia resulta una sorpresa: 65 años y más.  \n",
    "- Los hombres son el 85% de los casos de suicidios, el resto son las mujeres. Esto quiere decir que 8 de de cada 10 suicidios son de hombres.\n",
    "    -  Factores asociados al suicidio por sexo: \n",
    "Hombres: Las tasas más altas en hombres se asocian a factores como el estigma en torno a la salud mental, normas de masculinidad que desalientan la expresión emocional y menor propensión a buscar ayuda profesional. ​\n",
    "\n",
    "Mujeres: Aunque las tasas de suicidio consumado son más bajas en mujeres, los estudios indican que las mujeres hispanas y latinas, especialmente las adolescentes, reportan mayores niveles de pensamientos e intentos de suicidio que los hombres. Esto podría deberse a su mayor exposición a factores como la pobreza, la violencia y la baja autoestima. ​\n",
    "\n",
    "Al profundizar en el género y la edad, los hombres destacan por recurrir al suicidio después de los 65 años (13% de los casos), seguido de grupos de 25-29 y 30-34 años. Entre los 20-40, cada grupo concentra un 10% del total de los casos\n",
    "\n",
    "Las mujeres tienen mayor presencia en la población joven (15-24 años) con más del 25% en esos 2 grupos. Al contrario de los hombres, las mujeres mayores de 65 están en los grupos con menos casos."
   ]
  },
  {
   "cell_type": "code",
   "execution_count": 4,
   "id": "4049487f",
   "metadata": {},
   "outputs": [
    {
     "name": "stdout",
     "output_type": "stream",
     "text": [
      "El número de datos es 10035 y el de columnas es 11\n",
      "\n",
      " ..................... \n",
      "\n",
      "Los duplicados que tenemos en el conjunto de datos son: 33\n",
      "\n",
      " ..................... \n",
      "\n",
      "Los nulos que tenemos en el conjunto de datos son:\n"
     ]
    },
    {
     "data": {
      "application/vnd.microsoft.datawrangler.viewer.v0+json": {
       "columns": [
        {
         "name": "index",
         "rawType": "object",
         "type": "unknown"
        },
        {
         "name": "%_nulos",
         "rawType": "float64",
         "type": "float"
        }
       ],
       "conversionMethod": "pd.DataFrame",
       "ref": "70a9a48c-2c24-4a60-84f3-7f65d5d5c38e",
       "rows": [],
       "shape": {
        "columns": 1,
        "rows": 0
       }
      },
      "text/html": [
       "<div>\n",
       "<style scoped>\n",
       "    .dataframe tbody tr th:only-of-type {\n",
       "        vertical-align: middle;\n",
       "    }\n",
       "\n",
       "    .dataframe tbody tr th {\n",
       "        vertical-align: top;\n",
       "    }\n",
       "\n",
       "    .dataframe thead th {\n",
       "        text-align: right;\n",
       "    }\n",
       "</style>\n",
       "<table border=\"1\" class=\"dataframe\">\n",
       "  <thead>\n",
       "    <tr style=\"text-align: right;\">\n",
       "      <th></th>\n",
       "      <th>%_nulos</th>\n",
       "    </tr>\n",
       "  </thead>\n",
       "  <tbody>\n",
       "  </tbody>\n",
       "</table>\n",
       "</div>"
      ],
      "text/plain": [
       "Empty DataFrame\n",
       "Columns: [%_nulos]\n",
       "Index: []"
      ]
     },
     "metadata": {},
     "output_type": "display_data"
    },
    {
     "name": "stdout",
     "output_type": "stream",
     "text": [
      "\n",
      " ..................... \n",
      "\n",
      "Los tipos de las columnas son:\n"
     ]
    },
    {
     "data": {
      "application/vnd.microsoft.datawrangler.viewer.v0+json": {
       "columns": [
        {
         "name": "index",
         "rawType": "object",
         "type": "string"
        },
        {
         "name": "tipo_dato",
         "rawType": "object",
         "type": "unknown"
        }
       ],
       "conversionMethod": "pd.DataFrame",
       "ref": "beb9479a-6e73-4cd0-8f36-39a1709c80ff",
       "rows": [
        [
         "region",
         "object"
        ],
        [
         "provincia",
         "object"
        ],
        [
         "diasemana",
         "object"
        ],
        [
         "mesocu",
         "object"
        ],
        [
         "anoocu",
         "int64"
        ],
        [
         "rhora",
         "object"
        ],
        [
         "sexo",
         "object"
        ],
        [
         "lugarocu",
         "object"
        ],
        [
         "medioemp",
         "object"
        ],
        [
         "motivo",
         "object"
        ],
        [
         "grupoedad",
         "object"
        ]
       ],
       "shape": {
        "columns": 1,
        "rows": 11
       }
      },
      "text/html": [
       "<div>\n",
       "<style scoped>\n",
       "    .dataframe tbody tr th:only-of-type {\n",
       "        vertical-align: middle;\n",
       "    }\n",
       "\n",
       "    .dataframe tbody tr th {\n",
       "        vertical-align: top;\n",
       "    }\n",
       "\n",
       "    .dataframe thead th {\n",
       "        text-align: right;\n",
       "    }\n",
       "</style>\n",
       "<table border=\"1\" class=\"dataframe\">\n",
       "  <thead>\n",
       "    <tr style=\"text-align: right;\">\n",
       "      <th></th>\n",
       "      <th>tipo_dato</th>\n",
       "    </tr>\n",
       "  </thead>\n",
       "  <tbody>\n",
       "    <tr>\n",
       "      <th>region</th>\n",
       "      <td>object</td>\n",
       "    </tr>\n",
       "    <tr>\n",
       "      <th>provincia</th>\n",
       "      <td>object</td>\n",
       "    </tr>\n",
       "    <tr>\n",
       "      <th>diasemana</th>\n",
       "      <td>object</td>\n",
       "    </tr>\n",
       "    <tr>\n",
       "      <th>mesocu</th>\n",
       "      <td>object</td>\n",
       "    </tr>\n",
       "    <tr>\n",
       "      <th>anoocu</th>\n",
       "      <td>int64</td>\n",
       "    </tr>\n",
       "    <tr>\n",
       "      <th>rhora</th>\n",
       "      <td>object</td>\n",
       "    </tr>\n",
       "    <tr>\n",
       "      <th>sexo</th>\n",
       "      <td>object</td>\n",
       "    </tr>\n",
       "    <tr>\n",
       "      <th>lugarocu</th>\n",
       "      <td>object</td>\n",
       "    </tr>\n",
       "    <tr>\n",
       "      <th>medioemp</th>\n",
       "      <td>object</td>\n",
       "    </tr>\n",
       "    <tr>\n",
       "      <th>motivo</th>\n",
       "      <td>object</td>\n",
       "    </tr>\n",
       "    <tr>\n",
       "      <th>grupoedad</th>\n",
       "      <td>object</td>\n",
       "    </tr>\n",
       "  </tbody>\n",
       "</table>\n",
       "</div>"
      ],
      "text/plain": [
       "          tipo_dato\n",
       "region       object\n",
       "provincia    object\n",
       "diasemana    object\n",
       "mesocu       object\n",
       "anoocu        int64\n",
       "rhora        object\n",
       "sexo         object\n",
       "lugarocu     object\n",
       "medioemp     object\n",
       "motivo       object\n",
       "grupoedad    object"
      ]
     },
     "metadata": {},
     "output_type": "display_data"
    },
    {
     "name": "stdout",
     "output_type": "stream",
     "text": [
      "\n",
      " ..................... \n",
      "\n",
      "Los valores que tenemos para las columnas categóricas son: \n",
      "La columna region tiene los siguientes valores únicos:\n"
     ]
    },
    {
     "data": {
      "application/vnd.microsoft.datawrangler.viewer.v0+json": {
       "columns": [
        {
         "name": "region",
         "rawType": "object",
         "type": "string"
        },
        {
         "name": "count",
         "rawType": "int64",
         "type": "integer"
        }
       ],
       "conversionMethod": "pd.DataFrame",
       "ref": "b3efbfab-c94f-419f-9454-d83854e3c720",
       "rows": [
        [
         "Región Ozama",
         "2693"
        ],
        [
         "Región Cibao Norte",
         "1989"
        ],
        [
         "Región Cibao Sur",
         "912"
        ],
        [
         "Región Valdesia",
         "861"
        ],
        [
         "Región Cibao Nordeste",
         "771"
        ],
        [
         "Región Yuma",
         "715"
        ],
        [
         "Región El Valle",
         "610"
        ],
        [
         "Región Higuamo",
         "580"
        ],
        [
         "Región Cibao Noroeste",
         "563"
        ],
        [
         "Región Enriquillo",
         "339"
        ],
        [
         "No declarada",
         "2"
        ]
       ],
       "shape": {
        "columns": 1,
        "rows": 11
       }
      },
      "text/html": [
       "<div>\n",
       "<style scoped>\n",
       "    .dataframe tbody tr th:only-of-type {\n",
       "        vertical-align: middle;\n",
       "    }\n",
       "\n",
       "    .dataframe tbody tr th {\n",
       "        vertical-align: top;\n",
       "    }\n",
       "\n",
       "    .dataframe thead th {\n",
       "        text-align: right;\n",
       "    }\n",
       "</style>\n",
       "<table border=\"1\" class=\"dataframe\">\n",
       "  <thead>\n",
       "    <tr style=\"text-align: right;\">\n",
       "      <th></th>\n",
       "      <th>count</th>\n",
       "    </tr>\n",
       "    <tr>\n",
       "      <th>region</th>\n",
       "      <th></th>\n",
       "    </tr>\n",
       "  </thead>\n",
       "  <tbody>\n",
       "    <tr>\n",
       "      <th>Región Ozama</th>\n",
       "      <td>2693</td>\n",
       "    </tr>\n",
       "    <tr>\n",
       "      <th>Región Cibao Norte</th>\n",
       "      <td>1989</td>\n",
       "    </tr>\n",
       "    <tr>\n",
       "      <th>Región Cibao Sur</th>\n",
       "      <td>912</td>\n",
       "    </tr>\n",
       "    <tr>\n",
       "      <th>Región Valdesia</th>\n",
       "      <td>861</td>\n",
       "    </tr>\n",
       "    <tr>\n",
       "      <th>Región Cibao Nordeste</th>\n",
       "      <td>771</td>\n",
       "    </tr>\n",
       "    <tr>\n",
       "      <th>Región Yuma</th>\n",
       "      <td>715</td>\n",
       "    </tr>\n",
       "    <tr>\n",
       "      <th>Región El Valle</th>\n",
       "      <td>610</td>\n",
       "    </tr>\n",
       "    <tr>\n",
       "      <th>Región Higuamo</th>\n",
       "      <td>580</td>\n",
       "    </tr>\n",
       "    <tr>\n",
       "      <th>Región Cibao Noroeste</th>\n",
       "      <td>563</td>\n",
       "    </tr>\n",
       "    <tr>\n",
       "      <th>Región Enriquillo</th>\n",
       "      <td>339</td>\n",
       "    </tr>\n",
       "    <tr>\n",
       "      <th>No declarada</th>\n",
       "      <td>2</td>\n",
       "    </tr>\n",
       "  </tbody>\n",
       "</table>\n",
       "</div>"
      ],
      "text/plain": [
       "                       count\n",
       "region                      \n",
       "Región Ozama            2693\n",
       "Región Cibao Norte      1989\n",
       "Región Cibao Sur         912\n",
       "Región Valdesia          861\n",
       "Región Cibao Nordeste    771\n",
       "Región Yuma              715\n",
       "Región El Valle          610\n",
       "Región Higuamo           580\n",
       "Región Cibao Noroeste    563\n",
       "Región Enriquillo        339\n",
       "No declarada               2"
      ]
     },
     "metadata": {},
     "output_type": "display_data"
    },
    {
     "name": "stdout",
     "output_type": "stream",
     "text": [
      "La columna provincia tiene los siguientes valores únicos:\n"
     ]
    },
    {
     "data": {
      "application/vnd.microsoft.datawrangler.viewer.v0+json": {
       "columns": [
        {
         "name": "provincia",
         "rawType": "object",
         "type": "string"
        },
        {
         "name": "count",
         "rawType": "int64",
         "type": "integer"
        }
       ],
       "conversionMethod": "pd.DataFrame",
       "ref": "a7b95d51-3698-475c-9687-92e512727460",
       "rows": [
        [
         "Santo Domingo",
         "1835"
        ],
        [
         "Santiago",
         "1285"
        ],
        [
         "Distrito Nacional",
         "858"
        ],
        [
         "La Vega",
         "566"
        ],
        [
         "San Cristóbal",
         "518"
        ],
        [
         "La Altagracia",
         "416"
        ],
        [
         "Puerto Plata",
         "409"
        ],
        [
         "Duarte",
         "353"
        ],
        [
         "San Juan",
         "334"
        ],
        [
         "Espaillat",
         "295"
        ],
        [
         "San Pedro de Macorís",
         "269"
        ],
        [
         "Peravia",
         "247"
        ],
        [
         "Valverde",
         "239"
        ],
        [
         "Azua",
         "227"
        ],
        [
         "Monte Plata",
         "209"
        ],
        [
         "La Romana",
         "208"
        ],
        [
         "Monseñor Nouel",
         "176"
        ],
        [
         "Sánchez Ramírez",
         "170"
        ],
        [
         "María Trinidad Sánchez",
         "160"
        ],
        [
         "Hermanas Mirabal",
         "158"
        ],
        [
         "Barahona",
         "156"
        ],
        [
         "Monte Cristi",
         "137"
        ],
        [
         "Bahoruco",
         "117"
        ],
        [
         "Hato Mayor",
         "102"
        ],
        [
         "Samaná",
         "100"
        ],
        [
         "Dajabón",
         "99"
        ],
        [
         "San José de Ocoa",
         "96"
        ],
        [
         "El Seibo",
         "91"
        ],
        [
         "Santiago Rodríguez",
         "88"
        ],
        [
         "Elías Piña",
         "49"
        ],
        [
         "Independencia",
         "47"
        ],
        [
         "Pedernales",
         "19"
        ],
        [
         "No declarada",
         "2"
        ]
       ],
       "shape": {
        "columns": 1,
        "rows": 33
       }
      },
      "text/html": [
       "<div>\n",
       "<style scoped>\n",
       "    .dataframe tbody tr th:only-of-type {\n",
       "        vertical-align: middle;\n",
       "    }\n",
       "\n",
       "    .dataframe tbody tr th {\n",
       "        vertical-align: top;\n",
       "    }\n",
       "\n",
       "    .dataframe thead th {\n",
       "        text-align: right;\n",
       "    }\n",
       "</style>\n",
       "<table border=\"1\" class=\"dataframe\">\n",
       "  <thead>\n",
       "    <tr style=\"text-align: right;\">\n",
       "      <th></th>\n",
       "      <th>count</th>\n",
       "    </tr>\n",
       "    <tr>\n",
       "      <th>provincia</th>\n",
       "      <th></th>\n",
       "    </tr>\n",
       "  </thead>\n",
       "  <tbody>\n",
       "    <tr>\n",
       "      <th>Santo Domingo</th>\n",
       "      <td>1835</td>\n",
       "    </tr>\n",
       "    <tr>\n",
       "      <th>Santiago</th>\n",
       "      <td>1285</td>\n",
       "    </tr>\n",
       "    <tr>\n",
       "      <th>Distrito Nacional</th>\n",
       "      <td>858</td>\n",
       "    </tr>\n",
       "    <tr>\n",
       "      <th>La Vega</th>\n",
       "      <td>566</td>\n",
       "    </tr>\n",
       "    <tr>\n",
       "      <th>San Cristóbal</th>\n",
       "      <td>518</td>\n",
       "    </tr>\n",
       "    <tr>\n",
       "      <th>La Altagracia</th>\n",
       "      <td>416</td>\n",
       "    </tr>\n",
       "    <tr>\n",
       "      <th>Puerto Plata</th>\n",
       "      <td>409</td>\n",
       "    </tr>\n",
       "    <tr>\n",
       "      <th>Duarte</th>\n",
       "      <td>353</td>\n",
       "    </tr>\n",
       "    <tr>\n",
       "      <th>San Juan</th>\n",
       "      <td>334</td>\n",
       "    </tr>\n",
       "    <tr>\n",
       "      <th>Espaillat</th>\n",
       "      <td>295</td>\n",
       "    </tr>\n",
       "    <tr>\n",
       "      <th>San Pedro de Macorís</th>\n",
       "      <td>269</td>\n",
       "    </tr>\n",
       "    <tr>\n",
       "      <th>Peravia</th>\n",
       "      <td>247</td>\n",
       "    </tr>\n",
       "    <tr>\n",
       "      <th>Valverde</th>\n",
       "      <td>239</td>\n",
       "    </tr>\n",
       "    <tr>\n",
       "      <th>Azua</th>\n",
       "      <td>227</td>\n",
       "    </tr>\n",
       "    <tr>\n",
       "      <th>Monte Plata</th>\n",
       "      <td>209</td>\n",
       "    </tr>\n",
       "    <tr>\n",
       "      <th>La Romana</th>\n",
       "      <td>208</td>\n",
       "    </tr>\n",
       "    <tr>\n",
       "      <th>Monseñor Nouel</th>\n",
       "      <td>176</td>\n",
       "    </tr>\n",
       "    <tr>\n",
       "      <th>Sánchez Ramírez</th>\n",
       "      <td>170</td>\n",
       "    </tr>\n",
       "    <tr>\n",
       "      <th>María Trinidad Sánchez</th>\n",
       "      <td>160</td>\n",
       "    </tr>\n",
       "    <tr>\n",
       "      <th>Hermanas Mirabal</th>\n",
       "      <td>158</td>\n",
       "    </tr>\n",
       "    <tr>\n",
       "      <th>Barahona</th>\n",
       "      <td>156</td>\n",
       "    </tr>\n",
       "    <tr>\n",
       "      <th>Monte Cristi</th>\n",
       "      <td>137</td>\n",
       "    </tr>\n",
       "    <tr>\n",
       "      <th>Bahoruco</th>\n",
       "      <td>117</td>\n",
       "    </tr>\n",
       "    <tr>\n",
       "      <th>Hato Mayor</th>\n",
       "      <td>102</td>\n",
       "    </tr>\n",
       "    <tr>\n",
       "      <th>Samaná</th>\n",
       "      <td>100</td>\n",
       "    </tr>\n",
       "    <tr>\n",
       "      <th>Dajabón</th>\n",
       "      <td>99</td>\n",
       "    </tr>\n",
       "    <tr>\n",
       "      <th>San José de Ocoa</th>\n",
       "      <td>96</td>\n",
       "    </tr>\n",
       "    <tr>\n",
       "      <th>El Seibo</th>\n",
       "      <td>91</td>\n",
       "    </tr>\n",
       "    <tr>\n",
       "      <th>Santiago Rodríguez</th>\n",
       "      <td>88</td>\n",
       "    </tr>\n",
       "    <tr>\n",
       "      <th>Elías Piña</th>\n",
       "      <td>49</td>\n",
       "    </tr>\n",
       "    <tr>\n",
       "      <th>Independencia</th>\n",
       "      <td>47</td>\n",
       "    </tr>\n",
       "    <tr>\n",
       "      <th>Pedernales</th>\n",
       "      <td>19</td>\n",
       "    </tr>\n",
       "    <tr>\n",
       "      <th>No declarada</th>\n",
       "      <td>2</td>\n",
       "    </tr>\n",
       "  </tbody>\n",
       "</table>\n",
       "</div>"
      ],
      "text/plain": [
       "                        count\n",
       "provincia                    \n",
       "Santo Domingo            1835\n",
       "Santiago                 1285\n",
       "Distrito Nacional         858\n",
       "La Vega                   566\n",
       "San Cristóbal             518\n",
       "La Altagracia             416\n",
       "Puerto Plata              409\n",
       "Duarte                    353\n",
       "San Juan                  334\n",
       "Espaillat                 295\n",
       "San Pedro de Macorís      269\n",
       "Peravia                   247\n",
       "Valverde                  239\n",
       "Azua                      227\n",
       "Monte Plata               209\n",
       "La Romana                 208\n",
       "Monseñor Nouel            176\n",
       "Sánchez Ramírez           170\n",
       "María Trinidad Sánchez    160\n",
       "Hermanas Mirabal          158\n",
       "Barahona                  156\n",
       "Monte Cristi              137\n",
       "Bahoruco                  117\n",
       "Hato Mayor                102\n",
       "Samaná                    100\n",
       "Dajabón                    99\n",
       "San José de Ocoa           96\n",
       "El Seibo                   91\n",
       "Santiago Rodríguez         88\n",
       "Elías Piña                 49\n",
       "Independencia              47\n",
       "Pedernales                 19\n",
       "No declarada                2"
      ]
     },
     "metadata": {},
     "output_type": "display_data"
    },
    {
     "name": "stdout",
     "output_type": "stream",
     "text": [
      "La columna diasemana tiene los siguientes valores únicos:\n"
     ]
    },
    {
     "data": {
      "application/vnd.microsoft.datawrangler.viewer.v0+json": {
       "columns": [
        {
         "name": "diasemana",
         "rawType": "object",
         "type": "string"
        },
        {
         "name": "count",
         "rawType": "int64",
         "type": "integer"
        }
       ],
       "conversionMethod": "pd.DataFrame",
       "ref": "dda06253-f3cf-4770-8997-5bc587a658cd",
       "rows": [
        [
         "No declarado",
         "1604"
        ],
        [
         "Lunes",
         "1371"
        ],
        [
         "Domingo",
         "1364"
        ],
        [
         "Martes",
         "1198"
        ],
        [
         "Miércoles",
         "1161"
        ],
        [
         "Sábado",
         "1151"
        ],
        [
         "Jueves",
         "1115"
        ],
        [
         "Viernes",
         "1071"
        ]
       ],
       "shape": {
        "columns": 1,
        "rows": 8
       }
      },
      "text/html": [
       "<div>\n",
       "<style scoped>\n",
       "    .dataframe tbody tr th:only-of-type {\n",
       "        vertical-align: middle;\n",
       "    }\n",
       "\n",
       "    .dataframe tbody tr th {\n",
       "        vertical-align: top;\n",
       "    }\n",
       "\n",
       "    .dataframe thead th {\n",
       "        text-align: right;\n",
       "    }\n",
       "</style>\n",
       "<table border=\"1\" class=\"dataframe\">\n",
       "  <thead>\n",
       "    <tr style=\"text-align: right;\">\n",
       "      <th></th>\n",
       "      <th>count</th>\n",
       "    </tr>\n",
       "    <tr>\n",
       "      <th>diasemana</th>\n",
       "      <th></th>\n",
       "    </tr>\n",
       "  </thead>\n",
       "  <tbody>\n",
       "    <tr>\n",
       "      <th>No declarado</th>\n",
       "      <td>1604</td>\n",
       "    </tr>\n",
       "    <tr>\n",
       "      <th>Lunes</th>\n",
       "      <td>1371</td>\n",
       "    </tr>\n",
       "    <tr>\n",
       "      <th>Domingo</th>\n",
       "      <td>1364</td>\n",
       "    </tr>\n",
       "    <tr>\n",
       "      <th>Martes</th>\n",
       "      <td>1198</td>\n",
       "    </tr>\n",
       "    <tr>\n",
       "      <th>Miércoles</th>\n",
       "      <td>1161</td>\n",
       "    </tr>\n",
       "    <tr>\n",
       "      <th>Sábado</th>\n",
       "      <td>1151</td>\n",
       "    </tr>\n",
       "    <tr>\n",
       "      <th>Jueves</th>\n",
       "      <td>1115</td>\n",
       "    </tr>\n",
       "    <tr>\n",
       "      <th>Viernes</th>\n",
       "      <td>1071</td>\n",
       "    </tr>\n",
       "  </tbody>\n",
       "</table>\n",
       "</div>"
      ],
      "text/plain": [
       "              count\n",
       "diasemana          \n",
       "No declarado   1604\n",
       "Lunes          1371\n",
       "Domingo        1364\n",
       "Martes         1198\n",
       "Miércoles      1161\n",
       "Sábado         1151\n",
       "Jueves         1115\n",
       "Viernes        1071"
      ]
     },
     "metadata": {},
     "output_type": "display_data"
    },
    {
     "name": "stdout",
     "output_type": "stream",
     "text": [
      "La columna mesocu tiene los siguientes valores únicos:\n"
     ]
    },
    {
     "data": {
      "application/vnd.microsoft.datawrangler.viewer.v0+json": {
       "columns": [
        {
         "name": "mesocu",
         "rawType": "object",
         "type": "string"
        },
        {
         "name": "count",
         "rawType": "int64",
         "type": "integer"
        }
       ],
       "conversionMethod": "pd.DataFrame",
       "ref": "cb7134f7-6714-49ee-96c9-fa960de27112",
       "rows": [
        [
         "Julio",
         "933"
        ],
        [
         "Junio",
         "913"
        ],
        [
         "Octubre",
         "894"
        ],
        [
         "Septiembre",
         "884"
        ],
        [
         "Agosto",
         "869"
        ],
        [
         "Mayo",
         "844"
        ],
        [
         "Diciembre",
         "817"
        ],
        [
         "Abril",
         "807"
        ],
        [
         "Enero",
         "790"
        ],
        [
         "Noviembre",
         "787"
        ],
        [
         "Marzo",
         "765"
        ],
        [
         "Febrero",
         "732"
        ]
       ],
       "shape": {
        "columns": 1,
        "rows": 12
       }
      },
      "text/html": [
       "<div>\n",
       "<style scoped>\n",
       "    .dataframe tbody tr th:only-of-type {\n",
       "        vertical-align: middle;\n",
       "    }\n",
       "\n",
       "    .dataframe tbody tr th {\n",
       "        vertical-align: top;\n",
       "    }\n",
       "\n",
       "    .dataframe thead th {\n",
       "        text-align: right;\n",
       "    }\n",
       "</style>\n",
       "<table border=\"1\" class=\"dataframe\">\n",
       "  <thead>\n",
       "    <tr style=\"text-align: right;\">\n",
       "      <th></th>\n",
       "      <th>count</th>\n",
       "    </tr>\n",
       "    <tr>\n",
       "      <th>mesocu</th>\n",
       "      <th></th>\n",
       "    </tr>\n",
       "  </thead>\n",
       "  <tbody>\n",
       "    <tr>\n",
       "      <th>Julio</th>\n",
       "      <td>933</td>\n",
       "    </tr>\n",
       "    <tr>\n",
       "      <th>Junio</th>\n",
       "      <td>913</td>\n",
       "    </tr>\n",
       "    <tr>\n",
       "      <th>Octubre</th>\n",
       "      <td>894</td>\n",
       "    </tr>\n",
       "    <tr>\n",
       "      <th>Septiembre</th>\n",
       "      <td>884</td>\n",
       "    </tr>\n",
       "    <tr>\n",
       "      <th>Agosto</th>\n",
       "      <td>869</td>\n",
       "    </tr>\n",
       "    <tr>\n",
       "      <th>Mayo</th>\n",
       "      <td>844</td>\n",
       "    </tr>\n",
       "    <tr>\n",
       "      <th>Diciembre</th>\n",
       "      <td>817</td>\n",
       "    </tr>\n",
       "    <tr>\n",
       "      <th>Abril</th>\n",
       "      <td>807</td>\n",
       "    </tr>\n",
       "    <tr>\n",
       "      <th>Enero</th>\n",
       "      <td>790</td>\n",
       "    </tr>\n",
       "    <tr>\n",
       "      <th>Noviembre</th>\n",
       "      <td>787</td>\n",
       "    </tr>\n",
       "    <tr>\n",
       "      <th>Marzo</th>\n",
       "      <td>765</td>\n",
       "    </tr>\n",
       "    <tr>\n",
       "      <th>Febrero</th>\n",
       "      <td>732</td>\n",
       "    </tr>\n",
       "  </tbody>\n",
       "</table>\n",
       "</div>"
      ],
      "text/plain": [
       "            count\n",
       "mesocu           \n",
       "Julio         933\n",
       "Junio         913\n",
       "Octubre       894\n",
       "Septiembre    884\n",
       "Agosto        869\n",
       "Mayo          844\n",
       "Diciembre     817\n",
       "Abril         807\n",
       "Enero         790\n",
       "Noviembre     787\n",
       "Marzo         765\n",
       "Febrero       732"
      ]
     },
     "metadata": {},
     "output_type": "display_data"
    },
    {
     "name": "stdout",
     "output_type": "stream",
     "text": [
      "La columna rhora tiene los siguientes valores únicos:\n"
     ]
    },
    {
     "data": {
      "application/vnd.microsoft.datawrangler.viewer.v0+json": {
       "columns": [
        {
         "name": "rhora",
         "rawType": "object",
         "type": "string"
        },
        {
         "name": "count",
         "rawType": "int64",
         "type": "integer"
        }
       ],
       "conversionMethod": "pd.DataFrame",
       "ref": "4ef468f7-3f96-4362-ad94-06c1ad9e6da5",
       "rows": [
        [
         "No declarado",
         "1651"
        ],
        [
         "08:01-10:00",
         "1169"
        ],
        [
         "10:01-12:00",
         "1095"
        ],
        [
         "06:01-08:00",
         "884"
        ],
        [
         "14:01-16:00",
         "858"
        ],
        [
         "16:01-18:00",
         "815"
        ],
        [
         "12:01-14:00",
         "757"
        ],
        [
         "18:01-20:00",
         "742"
        ],
        [
         "20:01-22:00",
         "583"
        ],
        [
         "04:01-06:00",
         "511"
        ],
        [
         "22:01-24:00",
         "361"
        ],
        [
         "00:01-02:00",
         "327"
        ],
        [
         "02:01-04:00",
         "282"
        ]
       ],
       "shape": {
        "columns": 1,
        "rows": 13
       }
      },
      "text/html": [
       "<div>\n",
       "<style scoped>\n",
       "    .dataframe tbody tr th:only-of-type {\n",
       "        vertical-align: middle;\n",
       "    }\n",
       "\n",
       "    .dataframe tbody tr th {\n",
       "        vertical-align: top;\n",
       "    }\n",
       "\n",
       "    .dataframe thead th {\n",
       "        text-align: right;\n",
       "    }\n",
       "</style>\n",
       "<table border=\"1\" class=\"dataframe\">\n",
       "  <thead>\n",
       "    <tr style=\"text-align: right;\">\n",
       "      <th></th>\n",
       "      <th>count</th>\n",
       "    </tr>\n",
       "    <tr>\n",
       "      <th>rhora</th>\n",
       "      <th></th>\n",
       "    </tr>\n",
       "  </thead>\n",
       "  <tbody>\n",
       "    <tr>\n",
       "      <th>No declarado</th>\n",
       "      <td>1651</td>\n",
       "    </tr>\n",
       "    <tr>\n",
       "      <th>08:01-10:00</th>\n",
       "      <td>1169</td>\n",
       "    </tr>\n",
       "    <tr>\n",
       "      <th>10:01-12:00</th>\n",
       "      <td>1095</td>\n",
       "    </tr>\n",
       "    <tr>\n",
       "      <th>06:01-08:00</th>\n",
       "      <td>884</td>\n",
       "    </tr>\n",
       "    <tr>\n",
       "      <th>14:01-16:00</th>\n",
       "      <td>858</td>\n",
       "    </tr>\n",
       "    <tr>\n",
       "      <th>16:01-18:00</th>\n",
       "      <td>815</td>\n",
       "    </tr>\n",
       "    <tr>\n",
       "      <th>12:01-14:00</th>\n",
       "      <td>757</td>\n",
       "    </tr>\n",
       "    <tr>\n",
       "      <th>18:01-20:00</th>\n",
       "      <td>742</td>\n",
       "    </tr>\n",
       "    <tr>\n",
       "      <th>20:01-22:00</th>\n",
       "      <td>583</td>\n",
       "    </tr>\n",
       "    <tr>\n",
       "      <th>04:01-06:00</th>\n",
       "      <td>511</td>\n",
       "    </tr>\n",
       "    <tr>\n",
       "      <th>22:01-24:00</th>\n",
       "      <td>361</td>\n",
       "    </tr>\n",
       "    <tr>\n",
       "      <th>00:01-02:00</th>\n",
       "      <td>327</td>\n",
       "    </tr>\n",
       "    <tr>\n",
       "      <th>02:01-04:00</th>\n",
       "      <td>282</td>\n",
       "    </tr>\n",
       "  </tbody>\n",
       "</table>\n",
       "</div>"
      ],
      "text/plain": [
       "              count\n",
       "rhora              \n",
       "No declarado   1651\n",
       "08:01-10:00    1169\n",
       "10:01-12:00    1095\n",
       "06:01-08:00     884\n",
       "14:01-16:00     858\n",
       "16:01-18:00     815\n",
       "12:01-14:00     757\n",
       "18:01-20:00     742\n",
       "20:01-22:00     583\n",
       "04:01-06:00     511\n",
       "22:01-24:00     361\n",
       "00:01-02:00     327\n",
       "02:01-04:00     282"
      ]
     },
     "metadata": {},
     "output_type": "display_data"
    },
    {
     "name": "stdout",
     "output_type": "stream",
     "text": [
      "La columna sexo tiene los siguientes valores únicos:\n"
     ]
    },
    {
     "data": {
      "application/vnd.microsoft.datawrangler.viewer.v0+json": {
       "columns": [
        {
         "name": "sexo",
         "rawType": "object",
         "type": "string"
        },
        {
         "name": "count",
         "rawType": "int64",
         "type": "integer"
        }
       ],
       "conversionMethod": "pd.DataFrame",
       "ref": "49ef035d-9f7a-40a2-94c9-4720438fb641",
       "rows": [
        [
         "Hombres",
         "8570"
        ],
        [
         "Mujeres",
         "1465"
        ]
       ],
       "shape": {
        "columns": 1,
        "rows": 2
       }
      },
      "text/html": [
       "<div>\n",
       "<style scoped>\n",
       "    .dataframe tbody tr th:only-of-type {\n",
       "        vertical-align: middle;\n",
       "    }\n",
       "\n",
       "    .dataframe tbody tr th {\n",
       "        vertical-align: top;\n",
       "    }\n",
       "\n",
       "    .dataframe thead th {\n",
       "        text-align: right;\n",
       "    }\n",
       "</style>\n",
       "<table border=\"1\" class=\"dataframe\">\n",
       "  <thead>\n",
       "    <tr style=\"text-align: right;\">\n",
       "      <th></th>\n",
       "      <th>count</th>\n",
       "    </tr>\n",
       "    <tr>\n",
       "      <th>sexo</th>\n",
       "      <th></th>\n",
       "    </tr>\n",
       "  </thead>\n",
       "  <tbody>\n",
       "    <tr>\n",
       "      <th>Hombres</th>\n",
       "      <td>8570</td>\n",
       "    </tr>\n",
       "    <tr>\n",
       "      <th>Mujeres</th>\n",
       "      <td>1465</td>\n",
       "    </tr>\n",
       "  </tbody>\n",
       "</table>\n",
       "</div>"
      ],
      "text/plain": [
       "         count\n",
       "sexo          \n",
       "Hombres   8570\n",
       "Mujeres   1465"
      ]
     },
     "metadata": {},
     "output_type": "display_data"
    },
    {
     "name": "stdout",
     "output_type": "stream",
     "text": [
      "La columna lugarocu tiene los siguientes valores únicos:\n"
     ]
    },
    {
     "data": {
      "application/vnd.microsoft.datawrangler.viewer.v0+json": {
       "columns": [
        {
         "name": "lugarocu",
         "rawType": "object",
         "type": "string"
        },
        {
         "name": "count",
         "rawType": "int64",
         "type": "integer"
        }
       ],
       "conversionMethod": "pd.DataFrame",
       "ref": "df68bcf5-e8f9-4c3e-bdd8-b26068b15006",
       "rows": [
        [
         "Vivienda, domicilio o residencia",
         "5528"
        ],
        [
         "No declarado",
         "2354"
        ],
        [
         "Vía pública, parque",
         "1090"
        ],
        [
         "Finca, parcela, terreno baldío, solar y afines",
         "337"
        ],
        [
         "Hotel, motel, pensión, cabaña",
         "147"
        ],
        [
         "Trabajo",
         "103"
        ],
        [
         "Cárcel, cuartel, fortaleza, puesto de chequeo",
         "78"
        ],
        [
         "Puente",
         "73"
        ],
        [
         "Otro establecimiento comercial, empresa con servicio al público",
         "50"
        ],
        [
         "Río, cañada, canal, lago, laguna",
         "47"
        ],
        [
         "Centros educativos, centros de salud y otras instalaciones públicas)",
         "40"
        ],
        [
         "Colmado, discoteca, bar, colmadón",
         "40"
        ],
        [
         "Interior de vehículo",
         "39"
        ],
        [
         "Construcción de edificios y afines",
         "33"
        ],
        [
         "Otros",
         "30"
        ],
        [
         "Mar, playa",
         "25"
        ],
        [
         "Instalaciones de negocio o empresa no comercial (sin servicio al público)",
         "12"
        ],
        [
         "Almacen, mercado, plaza comercial, supermecado",
         "9"
        ]
       ],
       "shape": {
        "columns": 1,
        "rows": 18
       }
      },
      "text/html": [
       "<div>\n",
       "<style scoped>\n",
       "    .dataframe tbody tr th:only-of-type {\n",
       "        vertical-align: middle;\n",
       "    }\n",
       "\n",
       "    .dataframe tbody tr th {\n",
       "        vertical-align: top;\n",
       "    }\n",
       "\n",
       "    .dataframe thead th {\n",
       "        text-align: right;\n",
       "    }\n",
       "</style>\n",
       "<table border=\"1\" class=\"dataframe\">\n",
       "  <thead>\n",
       "    <tr style=\"text-align: right;\">\n",
       "      <th></th>\n",
       "      <th>count</th>\n",
       "    </tr>\n",
       "    <tr>\n",
       "      <th>lugarocu</th>\n",
       "      <th></th>\n",
       "    </tr>\n",
       "  </thead>\n",
       "  <tbody>\n",
       "    <tr>\n",
       "      <th>Vivienda, domicilio o residencia</th>\n",
       "      <td>5528</td>\n",
       "    </tr>\n",
       "    <tr>\n",
       "      <th>No declarado</th>\n",
       "      <td>2354</td>\n",
       "    </tr>\n",
       "    <tr>\n",
       "      <th>Vía pública, parque</th>\n",
       "      <td>1090</td>\n",
       "    </tr>\n",
       "    <tr>\n",
       "      <th>Finca, parcela, terreno baldío, solar y afines</th>\n",
       "      <td>337</td>\n",
       "    </tr>\n",
       "    <tr>\n",
       "      <th>Hotel, motel, pensión, cabaña</th>\n",
       "      <td>147</td>\n",
       "    </tr>\n",
       "    <tr>\n",
       "      <th>Trabajo</th>\n",
       "      <td>103</td>\n",
       "    </tr>\n",
       "    <tr>\n",
       "      <th>Cárcel, cuartel, fortaleza, puesto de chequeo</th>\n",
       "      <td>78</td>\n",
       "    </tr>\n",
       "    <tr>\n",
       "      <th>Puente</th>\n",
       "      <td>73</td>\n",
       "    </tr>\n",
       "    <tr>\n",
       "      <th>Otro establecimiento comercial, empresa con servicio al público</th>\n",
       "      <td>50</td>\n",
       "    </tr>\n",
       "    <tr>\n",
       "      <th>Río, cañada, canal, lago, laguna</th>\n",
       "      <td>47</td>\n",
       "    </tr>\n",
       "    <tr>\n",
       "      <th>Centros educativos, centros de salud y otras instalaciones públicas)</th>\n",
       "      <td>40</td>\n",
       "    </tr>\n",
       "    <tr>\n",
       "      <th>Colmado, discoteca, bar, colmadón</th>\n",
       "      <td>40</td>\n",
       "    </tr>\n",
       "    <tr>\n",
       "      <th>Interior de vehículo</th>\n",
       "      <td>39</td>\n",
       "    </tr>\n",
       "    <tr>\n",
       "      <th>Construcción de edificios y afines</th>\n",
       "      <td>33</td>\n",
       "    </tr>\n",
       "    <tr>\n",
       "      <th>Otros</th>\n",
       "      <td>30</td>\n",
       "    </tr>\n",
       "    <tr>\n",
       "      <th>Mar, playa</th>\n",
       "      <td>25</td>\n",
       "    </tr>\n",
       "    <tr>\n",
       "      <th>Instalaciones de negocio o empresa no comercial (sin servicio al público)</th>\n",
       "      <td>12</td>\n",
       "    </tr>\n",
       "    <tr>\n",
       "      <th>Almacen, mercado, plaza comercial, supermecado</th>\n",
       "      <td>9</td>\n",
       "    </tr>\n",
       "  </tbody>\n",
       "</table>\n",
       "</div>"
      ],
      "text/plain": [
       "                                                    count\n",
       "lugarocu                                                 \n",
       "Vivienda, domicilio o residencia                     5528\n",
       "No declarado                                         2354\n",
       "Vía pública, parque                                  1090\n",
       "Finca, parcela, terreno baldío, solar y afines        337\n",
       "Hotel, motel, pensión, cabaña                         147\n",
       "Trabajo                                               103\n",
       "Cárcel, cuartel, fortaleza, puesto de chequeo          78\n",
       "Puente                                                 73\n",
       "Otro establecimiento comercial, empresa con ser...     50\n",
       "Río, cañada, canal, lago, laguna                       47\n",
       "Centros educativos, centros de salud y otras in...     40\n",
       "Colmado, discoteca, bar, colmadón                      40\n",
       "Interior de vehículo                                   39\n",
       "Construcción de edificios y afines                     33\n",
       "Otros                                                  30\n",
       "Mar, playa                                             25\n",
       "Instalaciones de negocio o empresa no comercial...     12\n",
       "Almacen, mercado, plaza comercial, supermecado          9"
      ]
     },
     "metadata": {},
     "output_type": "display_data"
    },
    {
     "name": "stdout",
     "output_type": "stream",
     "text": [
      "La columna medioemp tiene los siguientes valores únicos:\n"
     ]
    },
    {
     "data": {
      "application/vnd.microsoft.datawrangler.viewer.v0+json": {
       "columns": [
        {
         "name": "medioemp",
         "rawType": "object",
         "type": "string"
        },
        {
         "name": "count",
         "rawType": "int64",
         "type": "integer"
        }
       ],
       "conversionMethod": "pd.DataFrame",
       "ref": "a3e8a906-ea91-49b7-974f-61c469e38e1b",
       "rows": [
        [
         "Ahorcamiento, asfixia respiratoria",
         "5858"
        ],
        [
         "Sustancia tóxica, veneno",
         "1988"
        ],
        [
         "Arma de fuego",
         "1584"
        ],
        [
         "Lanzamiento al vacío",
         "294"
        ],
        [
         "Arma blanca, cortopunzante",
         "115"
        ],
        [
         "Asfixia por inmersión",
         "78"
        ],
        [
         "Fuego, vapores, objetos calientes",
         "60"
        ],
        [
         "Otros",
         "53"
        ],
        [
         "No declarado",
         "5"
        ]
       ],
       "shape": {
        "columns": 1,
        "rows": 9
       }
      },
      "text/html": [
       "<div>\n",
       "<style scoped>\n",
       "    .dataframe tbody tr th:only-of-type {\n",
       "        vertical-align: middle;\n",
       "    }\n",
       "\n",
       "    .dataframe tbody tr th {\n",
       "        vertical-align: top;\n",
       "    }\n",
       "\n",
       "    .dataframe thead th {\n",
       "        text-align: right;\n",
       "    }\n",
       "</style>\n",
       "<table border=\"1\" class=\"dataframe\">\n",
       "  <thead>\n",
       "    <tr style=\"text-align: right;\">\n",
       "      <th></th>\n",
       "      <th>count</th>\n",
       "    </tr>\n",
       "    <tr>\n",
       "      <th>medioemp</th>\n",
       "      <th></th>\n",
       "    </tr>\n",
       "  </thead>\n",
       "  <tbody>\n",
       "    <tr>\n",
       "      <th>Ahorcamiento, asfixia respiratoria</th>\n",
       "      <td>5858</td>\n",
       "    </tr>\n",
       "    <tr>\n",
       "      <th>Sustancia tóxica, veneno</th>\n",
       "      <td>1988</td>\n",
       "    </tr>\n",
       "    <tr>\n",
       "      <th>Arma de fuego</th>\n",
       "      <td>1584</td>\n",
       "    </tr>\n",
       "    <tr>\n",
       "      <th>Lanzamiento al vacío</th>\n",
       "      <td>294</td>\n",
       "    </tr>\n",
       "    <tr>\n",
       "      <th>Arma blanca, cortopunzante</th>\n",
       "      <td>115</td>\n",
       "    </tr>\n",
       "    <tr>\n",
       "      <th>Asfixia por inmersión</th>\n",
       "      <td>78</td>\n",
       "    </tr>\n",
       "    <tr>\n",
       "      <th>Fuego, vapores, objetos calientes</th>\n",
       "      <td>60</td>\n",
       "    </tr>\n",
       "    <tr>\n",
       "      <th>Otros</th>\n",
       "      <td>53</td>\n",
       "    </tr>\n",
       "    <tr>\n",
       "      <th>No declarado</th>\n",
       "      <td>5</td>\n",
       "    </tr>\n",
       "  </tbody>\n",
       "</table>\n",
       "</div>"
      ],
      "text/plain": [
       "                                    count\n",
       "medioemp                                 \n",
       "Ahorcamiento, asfixia respiratoria   5858\n",
       "Sustancia tóxica, veneno             1988\n",
       "Arma de fuego                        1584\n",
       "Lanzamiento al vacío                  294\n",
       "Arma blanca, cortopunzante            115\n",
       "Asfixia por inmersión                  78\n",
       "Fuego, vapores, objetos calientes      60\n",
       "Otros                                  53\n",
       "No declarado                            5"
      ]
     },
     "metadata": {},
     "output_type": "display_data"
    },
    {
     "name": "stdout",
     "output_type": "stream",
     "text": [
      "La columna motivo tiene los siguientes valores únicos:\n"
     ]
    },
    {
     "data": {
      "application/vnd.microsoft.datawrangler.viewer.v0+json": {
       "columns": [
        {
         "name": "motivo",
         "rawType": "object",
         "type": "string"
        },
        {
         "name": "count",
         "rawType": "int64",
         "type": "integer"
        }
       ],
       "conversionMethod": "pd.DataFrame",
       "ref": "22b8baa0-6cce-4646-b8b6-07377bfa2bfb",
       "rows": [
        [
         "No declarado",
         "4261"
        ],
        [
         "Depresión, problemas de salud mental",
         "2813"
        ],
        [
         "Conflicto familiar, violencia intrafamiliar y de género",
         "1674"
        ],
        [
         "Otros problemas de salud",
         "722"
        ],
        [
         "Problemas económicos",
         "485"
        ],
        [
         "Otros",
         "45"
        ],
        [
         "Problemas judiciales",
         "16"
        ],
        [
         "Regaños, reproches",
         "10"
        ],
        [
         "Acoso, abuso sexual",
         "9"
        ]
       ],
       "shape": {
        "columns": 1,
        "rows": 9
       }
      },
      "text/html": [
       "<div>\n",
       "<style scoped>\n",
       "    .dataframe tbody tr th:only-of-type {\n",
       "        vertical-align: middle;\n",
       "    }\n",
       "\n",
       "    .dataframe tbody tr th {\n",
       "        vertical-align: top;\n",
       "    }\n",
       "\n",
       "    .dataframe thead th {\n",
       "        text-align: right;\n",
       "    }\n",
       "</style>\n",
       "<table border=\"1\" class=\"dataframe\">\n",
       "  <thead>\n",
       "    <tr style=\"text-align: right;\">\n",
       "      <th></th>\n",
       "      <th>count</th>\n",
       "    </tr>\n",
       "    <tr>\n",
       "      <th>motivo</th>\n",
       "      <th></th>\n",
       "    </tr>\n",
       "  </thead>\n",
       "  <tbody>\n",
       "    <tr>\n",
       "      <th>No declarado</th>\n",
       "      <td>4261</td>\n",
       "    </tr>\n",
       "    <tr>\n",
       "      <th>Depresión, problemas de salud mental</th>\n",
       "      <td>2813</td>\n",
       "    </tr>\n",
       "    <tr>\n",
       "      <th>Conflicto familiar, violencia intrafamiliar y de género</th>\n",
       "      <td>1674</td>\n",
       "    </tr>\n",
       "    <tr>\n",
       "      <th>Otros problemas de salud</th>\n",
       "      <td>722</td>\n",
       "    </tr>\n",
       "    <tr>\n",
       "      <th>Problemas económicos</th>\n",
       "      <td>485</td>\n",
       "    </tr>\n",
       "    <tr>\n",
       "      <th>Otros</th>\n",
       "      <td>45</td>\n",
       "    </tr>\n",
       "    <tr>\n",
       "      <th>Problemas judiciales</th>\n",
       "      <td>16</td>\n",
       "    </tr>\n",
       "    <tr>\n",
       "      <th>Regaños, reproches</th>\n",
       "      <td>10</td>\n",
       "    </tr>\n",
       "    <tr>\n",
       "      <th>Acoso, abuso sexual</th>\n",
       "      <td>9</td>\n",
       "    </tr>\n",
       "  </tbody>\n",
       "</table>\n",
       "</div>"
      ],
      "text/plain": [
       "                                                    count\n",
       "motivo                                                   \n",
       "No declarado                                         4261\n",
       "Depresión, problemas de salud mental                 2813\n",
       "Conflicto familiar, violencia intrafamiliar y d...   1674\n",
       "Otros problemas de salud                              722\n",
       "Problemas económicos                                  485\n",
       "Otros                                                  45\n",
       "Problemas judiciales                                   16\n",
       "Regaños, reproches                                     10\n",
       "Acoso, abuso sexual                                     9"
      ]
     },
     "metadata": {},
     "output_type": "display_data"
    },
    {
     "name": "stdout",
     "output_type": "stream",
     "text": [
      "La columna grupoedad tiene los siguientes valores únicos:\n"
     ]
    },
    {
     "data": {
      "application/vnd.microsoft.datawrangler.viewer.v0+json": {
       "columns": [
        {
         "name": "grupoedad",
         "rawType": "object",
         "type": "string"
        },
        {
         "name": "count",
         "rawType": "int64",
         "type": "integer"
        }
       ],
       "conversionMethod": "pd.DataFrame",
       "ref": "935431b9-17d2-4a3b-9b0d-0a5545696ff3",
       "rows": [
        [
         "65 y más",
         "1230"
        ],
        [
         "20 - 24",
         "1024"
        ],
        [
         "25 - 29",
         "999"
        ],
        [
         "30 - 34",
         "967"
        ],
        [
         "35 - 39",
         "944"
        ],
        [
         "40 - 44",
         "901"
        ],
        [
         "45 - 49",
         "792"
        ],
        [
         "50 - 54",
         "742"
        ],
        [
         "55 - 59",
         "613"
        ],
        [
         "15 - 19",
         "571"
        ],
        [
         "60 - 64",
         "533"
        ],
        [
         "No declarado",
         "432"
        ],
        [
         "10 - 14",
         "256"
        ],
        [
         "6 - 9",
         "31"
        ]
       ],
       "shape": {
        "columns": 1,
        "rows": 14
       }
      },
      "text/html": [
       "<div>\n",
       "<style scoped>\n",
       "    .dataframe tbody tr th:only-of-type {\n",
       "        vertical-align: middle;\n",
       "    }\n",
       "\n",
       "    .dataframe tbody tr th {\n",
       "        vertical-align: top;\n",
       "    }\n",
       "\n",
       "    .dataframe thead th {\n",
       "        text-align: right;\n",
       "    }\n",
       "</style>\n",
       "<table border=\"1\" class=\"dataframe\">\n",
       "  <thead>\n",
       "    <tr style=\"text-align: right;\">\n",
       "      <th></th>\n",
       "      <th>count</th>\n",
       "    </tr>\n",
       "    <tr>\n",
       "      <th>grupoedad</th>\n",
       "      <th></th>\n",
       "    </tr>\n",
       "  </thead>\n",
       "  <tbody>\n",
       "    <tr>\n",
       "      <th>65 y más</th>\n",
       "      <td>1230</td>\n",
       "    </tr>\n",
       "    <tr>\n",
       "      <th>20 - 24</th>\n",
       "      <td>1024</td>\n",
       "    </tr>\n",
       "    <tr>\n",
       "      <th>25 - 29</th>\n",
       "      <td>999</td>\n",
       "    </tr>\n",
       "    <tr>\n",
       "      <th>30 - 34</th>\n",
       "      <td>967</td>\n",
       "    </tr>\n",
       "    <tr>\n",
       "      <th>35 - 39</th>\n",
       "      <td>944</td>\n",
       "    </tr>\n",
       "    <tr>\n",
       "      <th>40 - 44</th>\n",
       "      <td>901</td>\n",
       "    </tr>\n",
       "    <tr>\n",
       "      <th>45 - 49</th>\n",
       "      <td>792</td>\n",
       "    </tr>\n",
       "    <tr>\n",
       "      <th>50 - 54</th>\n",
       "      <td>742</td>\n",
       "    </tr>\n",
       "    <tr>\n",
       "      <th>55 - 59</th>\n",
       "      <td>613</td>\n",
       "    </tr>\n",
       "    <tr>\n",
       "      <th>15 - 19</th>\n",
       "      <td>571</td>\n",
       "    </tr>\n",
       "    <tr>\n",
       "      <th>60 - 64</th>\n",
       "      <td>533</td>\n",
       "    </tr>\n",
       "    <tr>\n",
       "      <th>No declarado</th>\n",
       "      <td>432</td>\n",
       "    </tr>\n",
       "    <tr>\n",
       "      <th>10 - 14</th>\n",
       "      <td>256</td>\n",
       "    </tr>\n",
       "    <tr>\n",
       "      <th>6 - 9</th>\n",
       "      <td>31</td>\n",
       "    </tr>\n",
       "  </tbody>\n",
       "</table>\n",
       "</div>"
      ],
      "text/plain": [
       "              count\n",
       "grupoedad          \n",
       "65 y más       1230\n",
       "20 - 24        1024\n",
       "25 - 29         999\n",
       "30 - 34         967\n",
       "35 - 39         944\n",
       "40 - 44         901\n",
       "45 - 49         792\n",
       "50 - 54         742\n",
       "55 - 59         613\n",
       "15 - 19         571\n",
       "60 - 64         533\n",
       "No declarado    432\n",
       "10 - 14         256\n",
       "6 - 9            31"
      ]
     },
     "metadata": {},
     "output_type": "display_data"
    }
   ],
   "source": [
    "f.exploracion_dataframe(df)"
   ]
  },
  {
   "cell_type": "code",
   "execution_count": 5,
   "id": "8dae5002",
   "metadata": {},
   "outputs": [
    {
     "data": {
      "application/vnd.microsoft.datawrangler.viewer.v0+json": {
       "columns": [
        {
         "name": "index",
         "rawType": "int64",
         "type": "integer"
        },
        {
         "name": "region",
         "rawType": "object",
         "type": "string"
        },
        {
         "name": "provincia",
         "rawType": "object",
         "type": "string"
        },
        {
         "name": "diasemana",
         "rawType": "object",
         "type": "string"
        },
        {
         "name": "mesocu",
         "rawType": "object",
         "type": "string"
        },
        {
         "name": "anoocu",
         "rawType": "int64",
         "type": "integer"
        },
        {
         "name": "rhora",
         "rawType": "object",
         "type": "string"
        },
        {
         "name": "sexo",
         "rawType": "object",
         "type": "string"
        },
        {
         "name": "lugarocu",
         "rawType": "object",
         "type": "string"
        },
        {
         "name": "medioemp",
         "rawType": "object",
         "type": "string"
        },
        {
         "name": "motivo",
         "rawType": "object",
         "type": "string"
        },
        {
         "name": "grupoedad",
         "rawType": "object",
         "type": "string"
        }
       ],
       "conversionMethod": "pd.DataFrame",
       "ref": "ea109975-2087-46f0-a8fc-b17ef9651336",
       "rows": [
        [
         "300",
         "Región Cibao Norte",
         "Puerto Plata",
         "No declarado",
         "Mayo",
         "2007",
         "No declarado",
         "Hombres",
         "Vivienda, domicilio o residencia",
         "Ahorcamiento, asfixia respiratoria",
         "No declarado",
         "25 - 29"
        ],
        [
         "301",
         "Región Cibao Norte",
         "Puerto Plata",
         "No declarado",
         "Mayo",
         "2007",
         "No declarado",
         "Hombres",
         "Vivienda, domicilio o residencia",
         "Ahorcamiento, asfixia respiratoria",
         "No declarado",
         "25 - 29"
        ],
        [
         "707",
         "Región Cibao Norte",
         "Santiago",
         "No declarado",
         "Octubre",
         "2007",
         "No declarado",
         "Hombres",
         "Vivienda, domicilio o residencia",
         "Arma de fuego",
         "Conflicto familiar, violencia intrafamiliar y de género",
         "30 - 34"
        ],
        [
         "708",
         "Región Cibao Norte",
         "Santiago",
         "No declarado",
         "Octubre",
         "2007",
         "No declarado",
         "Hombres",
         "Vivienda, domicilio o residencia",
         "Arma de fuego",
         "Conflicto familiar, violencia intrafamiliar y de género",
         "30 - 34"
        ],
        [
         "786",
         "Región Cibao Norte",
         "Santiago",
         "No declarado",
         "Noviembre",
         "2008",
         "No declarado",
         "Hombres",
         "Vivienda, domicilio o residencia",
         "Sustancia tóxica, veneno",
         "No declarado",
         "30 - 34"
        ],
        [
         "787",
         "Región Cibao Norte",
         "Santiago",
         "No declarado",
         "Noviembre",
         "2008",
         "No declarado",
         "Hombres",
         "Vivienda, domicilio o residencia",
         "Sustancia tóxica, veneno",
         "No declarado",
         "30 - 34"
        ],
        [
         "789",
         "Región Cibao Norte",
         "Santiago",
         "No declarado",
         "Noviembre",
         "2008",
         "No declarado",
         "Hombres",
         "Vivienda, domicilio o residencia",
         "Sustancia tóxica, veneno",
         "No declarado",
         "50 - 54"
        ],
        [
         "796",
         "Región Cibao Norte",
         "Santiago",
         "No declarado",
         "Enero",
         "2008",
         "No declarado",
         "Hombres",
         "Vivienda, domicilio o residencia",
         "Ahorcamiento, asfixia respiratoria",
         "No declarado",
         "20 - 24"
        ],
        [
         "797",
         "Región Cibao Norte",
         "Santiago",
         "No declarado",
         "Enero",
         "2008",
         "No declarado",
         "Hombres",
         "Vivienda, domicilio o residencia",
         "Ahorcamiento, asfixia respiratoria",
         "No declarado",
         "20 - 24"
        ],
        [
         "803",
         "Región Cibao Norte",
         "Santiago",
         "No declarado",
         "Abril",
         "2008",
         "No declarado",
         "Hombres",
         "Vivienda, domicilio o residencia",
         "Ahorcamiento, asfixia respiratoria",
         "No declarado",
         "35 - 39"
        ],
        [
         "804",
         "Región Cibao Norte",
         "Santiago",
         "No declarado",
         "Abril",
         "2008",
         "No declarado",
         "Hombres",
         "Vivienda, domicilio o residencia",
         "Ahorcamiento, asfixia respiratoria",
         "No declarado",
         "35 - 39"
        ],
        [
         "855",
         "Región Cibao Norte",
         "Santiago",
         "No declarado",
         "Octubre",
         "2009",
         "No declarado",
         "Hombres",
         "Vivienda, domicilio o residencia",
         "Sustancia tóxica, veneno",
         "No declarado",
         "40 - 44"
        ],
        [
         "856",
         "Región Cibao Norte",
         "Santiago",
         "No declarado",
         "Octubre",
         "2009",
         "No declarado",
         "Hombres",
         "Vivienda, domicilio o residencia",
         "Sustancia tóxica, veneno",
         "No declarado",
         "40 - 44"
        ],
        [
         "872",
         "Región Cibao Norte",
         "Santiago",
         "No declarado",
         "Marzo",
         "2009",
         "No declarado",
         "Hombres",
         "Vivienda, domicilio o residencia",
         "Ahorcamiento, asfixia respiratoria",
         "No declarado",
         "65 y más"
        ],
        [
         "886",
         "Región Cibao Norte",
         "Santiago",
         "No declarado",
         "Octubre",
         "2009",
         "No declarado",
         "Hombres",
         "Vivienda, domicilio o residencia",
         "Ahorcamiento, asfixia respiratoria",
         "No declarado",
         "No declarado"
        ],
        [
         "887",
         "Región Cibao Norte",
         "Santiago",
         "No declarado",
         "Octubre",
         "2009",
         "No declarado",
         "Hombres",
         "Vivienda, domicilio o residencia",
         "Ahorcamiento, asfixia respiratoria",
         "No declarado",
         "No declarado"
        ],
        [
         "952",
         "Región Cibao Norte",
         "Santiago",
         "Lunes",
         "Julio",
         "2010",
         "18:01-20:00",
         "Hombres",
         "Vivienda, domicilio o residencia",
         "Ahorcamiento, asfixia respiratoria",
         "No declarado",
         "60 - 64"
        ],
        [
         "1738",
         "Región Cibao Norte",
         "Santiago",
         "Lunes",
         "Julio",
         "2010",
         "18:01-20:00",
         "Hombres",
         "Vivienda, domicilio o residencia",
         "Ahorcamiento, asfixia respiratoria",
         "No declarado",
         "60 - 64"
        ],
        [
         "1906",
         "Región Cibao Norte",
         "Santiago",
         "No declarado",
         "Noviembre",
         "2008",
         "No declarado",
         "Hombres",
         "Vivienda, domicilio o residencia",
         "Sustancia tóxica, veneno",
         "No declarado",
         "50 - 54"
        ],
        [
         "1908",
         "Región Cibao Norte",
         "Santiago",
         "No declarado",
         "Marzo",
         "2009",
         "No declarado",
         "Hombres",
         "Vivienda, domicilio o residencia",
         "Ahorcamiento, asfixia respiratoria",
         "No declarado",
         "65 y más"
        ],
        [
         "3128",
         "Región Cibao Nordeste",
         "Duarte",
         "Martes",
         "Mayo",
         "2018",
         "08:01-10:00",
         "Mujeres",
         "Vivienda, domicilio o residencia",
         "Sustancia tóxica, veneno",
         "No declarado",
         "35 - 39"
        ],
        [
         "3203",
         "Región Cibao Nordeste",
         "Duarte",
         "Martes",
         "Mayo",
         "2018",
         "08:01-10:00",
         "Mujeres",
         "Vivienda, domicilio o residencia",
         "Sustancia tóxica, veneno",
         "No declarado",
         "35 - 39"
        ],
        [
         "4526",
         "Región Valdesia",
         "San Cristóbal",
         "No declarado",
         "Marzo",
         "2008",
         "No declarado",
         "Mujeres",
         "Vivienda, domicilio o residencia",
         "Ahorcamiento, asfixia respiratoria",
         "No declarado",
         "30 - 34"
        ],
        [
         "4798",
         "Región Valdesia",
         "San Cristóbal",
         "No declarado",
         "Marzo",
         "2008",
         "No declarado",
         "Mujeres",
         "Vivienda, domicilio o residencia",
         "Ahorcamiento, asfixia respiratoria",
         "No declarado",
         "30 - 34"
        ],
        [
         "5749",
         "Región El Valle",
         "San Juan",
         "No declarado",
         "Junio",
         "2009",
         "No declarado",
         "Hombres",
         "Vivienda, domicilio o residencia",
         "Sustancia tóxica, veneno",
         "No declarado",
         "40 - 44"
        ],
        [
         "5750",
         "Región El Valle",
         "San Juan",
         "No declarado",
         "Junio",
         "2009",
         "No declarado",
         "Hombres",
         "Vivienda, domicilio o residencia",
         "Sustancia tóxica, veneno",
         "No declarado",
         "40 - 44"
        ],
        [
         "6792",
         "Región Higuamo",
         "San Pedro de Macorís",
         "No declarado",
         "Junio",
         "2009",
         "No declarado",
         "Hombres",
         "Vivienda, domicilio o residencia",
         "Ahorcamiento, asfixia respiratoria",
         "Otros",
         "No declarado"
        ],
        [
         "6793",
         "Región Higuamo",
         "San Pedro de Macorís",
         "No declarado",
         "Junio",
         "2009",
         "No declarado",
         "Hombres",
         "Vivienda, domicilio o residencia",
         "Ahorcamiento, asfixia respiratoria",
         "Otros",
         "No declarado"
        ],
        [
         "7061",
         "Región Higuamo",
         "Monte Plata",
         "Sábado",
         "Octubre",
         "2013",
         "16:01-18:00",
         "Hombres",
         "Vía pública, parque",
         "Ahorcamiento, asfixia respiratoria",
         "Otros problemas de salud",
         "65 y más"
        ],
        [
         "7229",
         "Región Higuamo",
         "Monte Plata",
         "Sábado",
         "Octubre",
         "2013",
         "16:01-18:00",
         "Hombres",
         "Vía pública, parque",
         "Ahorcamiento, asfixia respiratoria",
         "Otros problemas de salud",
         "65 y más"
        ],
        [
         "7355",
         "Región Ozama",
         "Distrito Nacional",
         "No declarado",
         "Julio",
         "2007",
         "No declarado",
         "Hombres",
         "Vivienda, domicilio o residencia",
         "Arma de fuego",
         "No declarado",
         "20 - 24"
        ],
        [
         "7356",
         "Región Ozama",
         "Distrito Nacional",
         "No declarado",
         "Julio",
         "2007",
         "No declarado",
         "Hombres",
         "Vivienda, domicilio o residencia",
         "Arma de fuego",
         "No declarado",
         "20 - 24"
        ],
        [
         "7389",
         "Región Ozama",
         "Distrito Nacional",
         "No declarado",
         "Noviembre",
         "2008",
         "No declarado",
         "Hombres",
         "Vivienda, domicilio o residencia",
         "Fuego, vapores, objetos calientes",
         "Conflicto familiar, violencia intrafamiliar y de género",
         "No declarado"
        ],
        [
         "7390",
         "Región Ozama",
         "Distrito Nacional",
         "No declarado",
         "Noviembre",
         "2008",
         "No declarado",
         "Hombres",
         "Vivienda, domicilio o residencia",
         "Fuego, vapores, objetos calientes",
         "Conflicto familiar, violencia intrafamiliar y de género",
         "No declarado"
        ],
        [
         "7421",
         "Región Ozama",
         "Distrito Nacional",
         "No declarado",
         "Julio",
         "2008",
         "No declarado",
         "Hombres",
         "Vivienda, domicilio o residencia",
         "Ahorcamiento, asfixia respiratoria",
         "No declarado",
         "15 - 19"
        ],
        [
         "7422",
         "Región Ozama",
         "Distrito Nacional",
         "No declarado",
         "Julio",
         "2008",
         "No declarado",
         "Hombres",
         "Vivienda, domicilio o residencia",
         "Ahorcamiento, asfixia respiratoria",
         "No declarado",
         "15 - 19"
        ],
        [
         "7424",
         "Región Ozama",
         "Distrito Nacional",
         "No declarado",
         "Noviembre",
         "2008",
         "No declarado",
         "Hombres",
         "Vivienda, domicilio o residencia",
         "Ahorcamiento, asfixia respiratoria",
         "No declarado",
         "30 - 34"
        ],
        [
         "7425",
         "Región Ozama",
         "Distrito Nacional",
         "No declarado",
         "Noviembre",
         "2008",
         "No declarado",
         "Hombres",
         "Vivienda, domicilio o residencia",
         "Ahorcamiento, asfixia respiratoria",
         "No declarado",
         "30 - 34"
        ],
        [
         "7428",
         "Región Ozama",
         "Distrito Nacional",
         "No declarado",
         "Diciembre",
         "2008",
         "No declarado",
         "Hombres",
         "Vivienda, domicilio o residencia",
         "Ahorcamiento, asfixia respiratoria",
         "No declarado",
         "30 - 34"
        ],
        [
         "7429",
         "Región Ozama",
         "Distrito Nacional",
         "No declarado",
         "Diciembre",
         "2008",
         "No declarado",
         "Hombres",
         "Vivienda, domicilio o residencia",
         "Ahorcamiento, asfixia respiratoria",
         "No declarado",
         "30 - 34"
        ],
        [
         "8213",
         "Región Ozama",
         "Santo Domingo",
         "No declarado",
         "Enero",
         "2007",
         "No declarado",
         "Hombres",
         "Vivienda, domicilio o residencia",
         "Arma de fuego",
         "No declarado",
         "No declarado"
        ],
        [
         "8214",
         "Región Ozama",
         "Santo Domingo",
         "No declarado",
         "Enero",
         "2007",
         "No declarado",
         "Hombres",
         "Vivienda, domicilio o residencia",
         "Arma de fuego",
         "No declarado",
         "No declarado"
        ],
        [
         "8254",
         "Región Ozama",
         "Santo Domingo",
         "No declarado",
         "Abril",
         "2008",
         "No declarado",
         "Hombres",
         "Vivienda, domicilio o residencia",
         "Arma de fuego",
         "No declarado",
         "30 - 34"
        ],
        [
         "8255",
         "Región Ozama",
         "Santo Domingo",
         "No declarado",
         "Abril",
         "2008",
         "No declarado",
         "Hombres",
         "Vivienda, domicilio o residencia",
         "Arma de fuego",
         "No declarado",
         "30 - 34"
        ],
        [
         "8258",
         "Región Ozama",
         "Santo Domingo",
         "No declarado",
         "Julio",
         "2008",
         "No declarado",
         "Hombres",
         "Vivienda, domicilio o residencia",
         "Arma de fuego",
         "No declarado",
         "No declarado"
        ],
        [
         "8305",
         "Región Ozama",
         "Santo Domingo",
         "No declarado",
         "Junio",
         "2009",
         "No declarado",
         "Hombres",
         "Vivienda, domicilio o residencia",
         "Ahorcamiento, asfixia respiratoria",
         "No declarado",
         "35 - 39"
        ],
        [
         "8306",
         "Región Ozama",
         "Santo Domingo",
         "No declarado",
         "Junio",
         "2009",
         "No declarado",
         "Hombres",
         "Vivienda, domicilio o residencia",
         "Ahorcamiento, asfixia respiratoria",
         "No declarado",
         "35 - 39"
        ],
        [
         "8308",
         "Región Ozama",
         "Santo Domingo",
         "No declarado",
         "Junio",
         "2009",
         "No declarado",
         "Hombres",
         "Vivienda, domicilio o residencia",
         "Ahorcamiento, asfixia respiratoria",
         "No declarado",
         "45 - 49"
        ],
        [
         "8309",
         "Región Ozama",
         "Santo Domingo",
         "No declarado",
         "Junio",
         "2009",
         "No declarado",
         "Hombres",
         "Vivienda, domicilio o residencia",
         "Ahorcamiento, asfixia respiratoria",
         "No declarado",
         "45 - 49"
        ],
        [
         "8312",
         "Región Ozama",
         "Santo Domingo",
         "No declarado",
         "Diciembre",
         "2009",
         "No declarado",
         "Hombres",
         "Vivienda, domicilio o residencia",
         "Ahorcamiento, asfixia respiratoria",
         "No declarado",
         "15 - 19"
        ]
       ],
       "shape": {
        "columns": 11,
        "rows": 66
       }
      },
      "text/html": [
       "<div>\n",
       "<style scoped>\n",
       "    .dataframe tbody tr th:only-of-type {\n",
       "        vertical-align: middle;\n",
       "    }\n",
       "\n",
       "    .dataframe tbody tr th {\n",
       "        vertical-align: top;\n",
       "    }\n",
       "\n",
       "    .dataframe thead th {\n",
       "        text-align: right;\n",
       "    }\n",
       "</style>\n",
       "<table border=\"1\" class=\"dataframe\">\n",
       "  <thead>\n",
       "    <tr style=\"text-align: right;\">\n",
       "      <th></th>\n",
       "      <th>region</th>\n",
       "      <th>provincia</th>\n",
       "      <th>diasemana</th>\n",
       "      <th>mesocu</th>\n",
       "      <th>anoocu</th>\n",
       "      <th>rhora</th>\n",
       "      <th>sexo</th>\n",
       "      <th>lugarocu</th>\n",
       "      <th>medioemp</th>\n",
       "      <th>motivo</th>\n",
       "      <th>grupoedad</th>\n",
       "    </tr>\n",
       "  </thead>\n",
       "  <tbody>\n",
       "    <tr>\n",
       "      <th>300</th>\n",
       "      <td>Región Cibao Norte</td>\n",
       "      <td>Puerto Plata</td>\n",
       "      <td>No declarado</td>\n",
       "      <td>Mayo</td>\n",
       "      <td>2007</td>\n",
       "      <td>No declarado</td>\n",
       "      <td>Hombres</td>\n",
       "      <td>Vivienda, domicilio o residencia</td>\n",
       "      <td>Ahorcamiento, asfixia respiratoria</td>\n",
       "      <td>No declarado</td>\n",
       "      <td>25 - 29</td>\n",
       "    </tr>\n",
       "    <tr>\n",
       "      <th>301</th>\n",
       "      <td>Región Cibao Norte</td>\n",
       "      <td>Puerto Plata</td>\n",
       "      <td>No declarado</td>\n",
       "      <td>Mayo</td>\n",
       "      <td>2007</td>\n",
       "      <td>No declarado</td>\n",
       "      <td>Hombres</td>\n",
       "      <td>Vivienda, domicilio o residencia</td>\n",
       "      <td>Ahorcamiento, asfixia respiratoria</td>\n",
       "      <td>No declarado</td>\n",
       "      <td>25 - 29</td>\n",
       "    </tr>\n",
       "    <tr>\n",
       "      <th>707</th>\n",
       "      <td>Región Cibao Norte</td>\n",
       "      <td>Santiago</td>\n",
       "      <td>No declarado</td>\n",
       "      <td>Octubre</td>\n",
       "      <td>2007</td>\n",
       "      <td>No declarado</td>\n",
       "      <td>Hombres</td>\n",
       "      <td>Vivienda, domicilio o residencia</td>\n",
       "      <td>Arma de fuego</td>\n",
       "      <td>Conflicto familiar, violencia intrafamiliar y ...</td>\n",
       "      <td>30 - 34</td>\n",
       "    </tr>\n",
       "    <tr>\n",
       "      <th>708</th>\n",
       "      <td>Región Cibao Norte</td>\n",
       "      <td>Santiago</td>\n",
       "      <td>No declarado</td>\n",
       "      <td>Octubre</td>\n",
       "      <td>2007</td>\n",
       "      <td>No declarado</td>\n",
       "      <td>Hombres</td>\n",
       "      <td>Vivienda, domicilio o residencia</td>\n",
       "      <td>Arma de fuego</td>\n",
       "      <td>Conflicto familiar, violencia intrafamiliar y ...</td>\n",
       "      <td>30 - 34</td>\n",
       "    </tr>\n",
       "    <tr>\n",
       "      <th>786</th>\n",
       "      <td>Región Cibao Norte</td>\n",
       "      <td>Santiago</td>\n",
       "      <td>No declarado</td>\n",
       "      <td>Noviembre</td>\n",
       "      <td>2008</td>\n",
       "      <td>No declarado</td>\n",
       "      <td>Hombres</td>\n",
       "      <td>Vivienda, domicilio o residencia</td>\n",
       "      <td>Sustancia tóxica, veneno</td>\n",
       "      <td>No declarado</td>\n",
       "      <td>30 - 34</td>\n",
       "    </tr>\n",
       "    <tr>\n",
       "      <th>...</th>\n",
       "      <td>...</td>\n",
       "      <td>...</td>\n",
       "      <td>...</td>\n",
       "      <td>...</td>\n",
       "      <td>...</td>\n",
       "      <td>...</td>\n",
       "      <td>...</td>\n",
       "      <td>...</td>\n",
       "      <td>...</td>\n",
       "      <td>...</td>\n",
       "      <td>...</td>\n",
       "    </tr>\n",
       "    <tr>\n",
       "      <th>9289</th>\n",
       "      <td>Región Ozama</td>\n",
       "      <td>Santo Domingo</td>\n",
       "      <td>No declarado</td>\n",
       "      <td>Junio</td>\n",
       "      <td>2009</td>\n",
       "      <td>No declarado</td>\n",
       "      <td>Hombres</td>\n",
       "      <td>Vivienda, domicilio o residencia</td>\n",
       "      <td>Ahorcamiento, asfixia respiratoria</td>\n",
       "      <td>Problemas económicos</td>\n",
       "      <td>20 - 24</td>\n",
       "    </tr>\n",
       "    <tr>\n",
       "      <th>9300</th>\n",
       "      <td>Región Ozama</td>\n",
       "      <td>Santo Domingo</td>\n",
       "      <td>No declarado</td>\n",
       "      <td>Diciembre</td>\n",
       "      <td>2009</td>\n",
       "      <td>No declarado</td>\n",
       "      <td>Hombres</td>\n",
       "      <td>Vivienda, domicilio o residencia</td>\n",
       "      <td>Ahorcamiento, asfixia respiratoria</td>\n",
       "      <td>No declarado</td>\n",
       "      <td>15 - 19</td>\n",
       "    </tr>\n",
       "    <tr>\n",
       "      <th>9616</th>\n",
       "      <td>Región Ozama</td>\n",
       "      <td>Santo Domingo</td>\n",
       "      <td>Domingo</td>\n",
       "      <td>Marzo</td>\n",
       "      <td>2019</td>\n",
       "      <td>02:01-04:00</td>\n",
       "      <td>Hombres</td>\n",
       "      <td>No declarado</td>\n",
       "      <td>Arma de fuego</td>\n",
       "      <td>Depresión, problemas de salud mental</td>\n",
       "      <td>50 - 54</td>\n",
       "    </tr>\n",
       "    <tr>\n",
       "      <th>9792</th>\n",
       "      <td>Región Ozama</td>\n",
       "      <td>Santo Domingo</td>\n",
       "      <td>No declarado</td>\n",
       "      <td>Julio</td>\n",
       "      <td>2008</td>\n",
       "      <td>No declarado</td>\n",
       "      <td>Hombres</td>\n",
       "      <td>Vivienda, domicilio o residencia</td>\n",
       "      <td>Arma de fuego</td>\n",
       "      <td>No declarado</td>\n",
       "      <td>No declarado</td>\n",
       "    </tr>\n",
       "    <tr>\n",
       "      <th>9973</th>\n",
       "      <td>Región Ozama</td>\n",
       "      <td>Santo Domingo</td>\n",
       "      <td>No declarado</td>\n",
       "      <td>Enero</td>\n",
       "      <td>2008</td>\n",
       "      <td>No declarado</td>\n",
       "      <td>Hombres</td>\n",
       "      <td>Vivienda, domicilio o residencia</td>\n",
       "      <td>Ahorcamiento, asfixia respiratoria</td>\n",
       "      <td>No declarado</td>\n",
       "      <td>15 - 19</td>\n",
       "    </tr>\n",
       "  </tbody>\n",
       "</table>\n",
       "<p>66 rows × 11 columns</p>\n",
       "</div>"
      ],
      "text/plain": [
       "                  region      provincia     diasemana     mesocu  anoocu  \\\n",
       "300   Región Cibao Norte   Puerto Plata  No declarado       Mayo    2007   \n",
       "301   Región Cibao Norte   Puerto Plata  No declarado       Mayo    2007   \n",
       "707   Región Cibao Norte       Santiago  No declarado    Octubre    2007   \n",
       "708   Región Cibao Norte       Santiago  No declarado    Octubre    2007   \n",
       "786   Región Cibao Norte       Santiago  No declarado  Noviembre    2008   \n",
       "...                  ...            ...           ...        ...     ...   \n",
       "9289        Región Ozama  Santo Domingo  No declarado      Junio    2009   \n",
       "9300        Región Ozama  Santo Domingo  No declarado  Diciembre    2009   \n",
       "9616        Región Ozama  Santo Domingo       Domingo      Marzo    2019   \n",
       "9792        Región Ozama  Santo Domingo  No declarado      Julio    2008   \n",
       "9973        Región Ozama  Santo Domingo  No declarado      Enero    2008   \n",
       "\n",
       "             rhora     sexo                          lugarocu  \\\n",
       "300   No declarado  Hombres  Vivienda, domicilio o residencia   \n",
       "301   No declarado  Hombres  Vivienda, domicilio o residencia   \n",
       "707   No declarado  Hombres  Vivienda, domicilio o residencia   \n",
       "708   No declarado  Hombres  Vivienda, domicilio o residencia   \n",
       "786   No declarado  Hombres  Vivienda, domicilio o residencia   \n",
       "...            ...      ...                               ...   \n",
       "9289  No declarado  Hombres  Vivienda, domicilio o residencia   \n",
       "9300  No declarado  Hombres  Vivienda, domicilio o residencia   \n",
       "9616   02:01-04:00  Hombres                      No declarado   \n",
       "9792  No declarado  Hombres  Vivienda, domicilio o residencia   \n",
       "9973  No declarado  Hombres  Vivienda, domicilio o residencia   \n",
       "\n",
       "                                medioemp  \\\n",
       "300   Ahorcamiento, asfixia respiratoria   \n",
       "301   Ahorcamiento, asfixia respiratoria   \n",
       "707                        Arma de fuego   \n",
       "708                        Arma de fuego   \n",
       "786             Sustancia tóxica, veneno   \n",
       "...                                  ...   \n",
       "9289  Ahorcamiento, asfixia respiratoria   \n",
       "9300  Ahorcamiento, asfixia respiratoria   \n",
       "9616                       Arma de fuego   \n",
       "9792                       Arma de fuego   \n",
       "9973  Ahorcamiento, asfixia respiratoria   \n",
       "\n",
       "                                                 motivo     grupoedad  \n",
       "300                                        No declarado       25 - 29  \n",
       "301                                        No declarado       25 - 29  \n",
       "707   Conflicto familiar, violencia intrafamiliar y ...       30 - 34  \n",
       "708   Conflicto familiar, violencia intrafamiliar y ...       30 - 34  \n",
       "786                                        No declarado       30 - 34  \n",
       "...                                                 ...           ...  \n",
       "9289                               Problemas económicos       20 - 24  \n",
       "9300                                       No declarado       15 - 19  \n",
       "9616               Depresión, problemas de salud mental       50 - 54  \n",
       "9792                                       No declarado  No declarado  \n",
       "9973                                       No declarado       15 - 19  \n",
       "\n",
       "[66 rows x 11 columns]"
      ]
     },
     "execution_count": 5,
     "metadata": {},
     "output_type": "execute_result"
    }
   ],
   "source": [
    "df[df.duplicated(keep=False)] # de esta forma veo el original y el duplicado"
   ]
  },
  {
   "cell_type": "code",
   "execution_count": 6,
   "id": "19d84f65",
   "metadata": {},
   "outputs": [
    {
     "data": {
      "text/plain": [
       "anoocu\n",
       "2021    670\n",
       "2023    669\n",
       "2018    648\n",
       "2012    638\n",
       "2011    637\n",
       "2022    609\n",
       "2019    607\n",
       "2020    597\n",
       "2017    575\n",
       "2016    569\n",
       "2013    567\n",
       "2009    563\n",
       "2014    557\n",
       "2015    547\n",
       "2010    541\n",
       "2008    529\n",
       "2007    512\n",
       "Name: count, dtype: int64"
      ]
     },
     "execution_count": 6,
     "metadata": {},
     "output_type": "execute_result"
    }
   ],
   "source": [
    "df['anoocu'].value_counts()"
   ]
  },
  {
   "cell_type": "code",
   "execution_count": null,
   "id": "00070355",
   "metadata": {},
   "outputs": [
    {
     "data": {
      "text/plain": [
       "sexo\n",
       "Hombres   85.40\n",
       "Mujeres   14.60\n",
       "Name: proportion, dtype: float64"
      ]
     },
     "execution_count": 7,
     "metadata": {},
     "output_type": "execute_result"
    }
   ],
   "source": [
    "df['sexo'].value_counts(normalize=True) *100 #visualizar porcentaje por género"
   ]
  },
  {
   "cell_type": "code",
   "execution_count": null,
   "id": "3ba16db1",
   "metadata": {},
   "outputs": [
    {
     "data": {
      "text/plain": [
       "lugarocu\n",
       "Vivienda, domicilio o residencia                                            55.09\n",
       "No declarado                                                                23.46\n",
       "Vía pública, parque                                                         10.86\n",
       "Finca, parcela, terreno baldío, solar y afines                               3.36\n",
       "Hotel, motel, pensión, cabaña                                                1.46\n",
       "Trabajo                                                                      1.03\n",
       "Cárcel, cuartel, fortaleza, puesto de chequeo                                0.78\n",
       "Puente                                                                       0.73\n",
       "Otro establecimiento comercial, empresa con servicio al público              0.50\n",
       "Río, cañada, canal, lago, laguna                                             0.47\n",
       "Centros educativos, centros de salud y otras instalaciones públicas)         0.40\n",
       "Colmado, discoteca, bar, colmadón                                            0.40\n",
       "Interior de vehículo                                                         0.39\n",
       "Construcción de edificios y afines                                           0.33\n",
       "Otros                                                                        0.30\n",
       "Mar, playa                                                                   0.25\n",
       "Instalaciones de negocio o empresa no comercial (sin servicio al público)    0.12\n",
       "Almacen, mercado, plaza comercial, supermecado                               0.09\n",
       "Name: proportion, dtype: float64"
      ]
     },
     "execution_count": 8,
     "metadata": {},
     "output_type": "execute_result"
    }
   ],
   "source": [
    "df['lugarocu'].value_counts(normalize=True) * 100 #visualizar porcentaje por lugar donde ocurrió"
   ]
  },
  {
   "cell_type": "code",
   "execution_count": 9,
   "id": "df882d4e",
   "metadata": {},
   "outputs": [],
   "source": [
    "df_num, df_cat = f.separar_dataframes(df)"
   ]
  },
  {
   "cell_type": "code",
   "execution_count": 10,
   "id": "5e67d29b",
   "metadata": {},
   "outputs": [
    {
     "data": {
      "image/png": "[encoded data removed]",
      "text/plain": [
       "<Figure size 1000x800 with 1 Axes>"
      ]
     },
     "metadata": {},
     "output_type": "display_data"
    }
   ],
   "source": [
    "f.plot_numericas(df_num)"
   ]
  },
  {
   "cell_type": "code",
   "execution_count": null,
   "id": "4200b1ea",
   "metadata": {},
   "outputs": [
    {
     "data": {
      "image/png": "[encoded data removed]",
      "text/plain": [
       "<Figure size 1000x600 with 1 Axes>"
      ]
     },
     "metadata": {},
     "output_type": "display_data"
    }
   ],
   "source": [
    "# crear un conteo de suicidios por región\n",
    "conteo_region = df['region'].value_counts().reset_index()\n",
    "conteo_region.columns = ['region', 'suicidios']\n",
    "\n",
    "# crear el barplot\n",
    "plt.figure(figsize=(10, 6))\n",
    "sns.barplot(data=conteo_region, x='region', y='suicidios', palette='viridis')\n",
    "\n",
    "plt.title('Cantidad de suicidios por región')\n",
    "plt.xlabel('Región')\n",
    "plt.ylabel('Cantidad de Suicidios')\n",
    "plt.xticks(rotation=45)\n",
    "plt.tight_layout()\n",
    "plt.show()"
   ]
  },
  {
   "cell_type": "code",
   "execution_count": 12,
   "id": "845a3213",
   "metadata": {},
   "outputs": [
    {
     "data": {
      "application/vnd.microsoft.datawrangler.viewer.v0+json": {
       "columns": [
        {
         "name": "('sexo', 'grupoedad')",
         "rawType": "object",
         "type": "unknown"
        },
        {
         "name": "Conteo",
         "rawType": "int64",
         "type": "integer"
        },
        {
         "name": "Total por Sexo",
         "rawType": "int64",
         "type": "integer"
        },
        {
         "name": "Porcentaje (%)",
         "rawType": "float64",
         "type": "float"
        }
       ],
       "conversionMethod": "pd.DataFrame",
       "ref": "1b8f70f9-a51a-4aaa-8200-6eb88d82b5f1",
       "rows": [
        [
         "('Hombres', '65 y más')",
         "1138",
         "8570",
         "13.278879813302217"
        ],
        [
         "('Hombres', '25 - 29')",
         "856",
         "8570",
         "9.988331388564761"
        ],
        [
         "('Hombres', '30 - 34')",
         "850",
         "8570",
         "9.918319719953326"
        ],
        [
         "('Hombres', '20 - 24')",
         "823",
         "8570",
         "9.603267211201867"
        ],
        [
         "('Hombres', '35 - 39')",
         "818",
         "8570",
         "9.54492415402567"
        ],
        [
         "('Hombres', '40 - 44')",
         "767",
         "8570",
         "8.949824970828471"
        ],
        [
         "('Hombres', '45 - 49')",
         "692",
         "8570",
         "8.07467911318553"
        ],
        [
         "('Hombres', '50 - 54')",
         "670",
         "8570",
         "7.8179696616102685"
        ],
        [
         "('Hombres', '55 - 59')",
         "554",
         "8570",
         "6.464410735122521"
        ],
        [
         "('Hombres', '60 - 64')",
         "476",
         "8570",
         "5.554259043173862"
        ],
        [
         "('Hombres', 'No declarado')",
         "396",
         "8570",
         "4.620770128354726"
        ],
        [
         "('Hombres', '15 - 19')",
         "370",
         "8570",
         "4.3173862310385065"
        ],
        [
         "('Hombres', '10 - 14')",
         "138",
         "8570",
         "1.6102683780630105"
        ],
        [
         "('Hombres', '6 - 9')",
         "22",
         "8570",
         "0.25670945157526254"
        ],
        [
         "('Mujeres', '15 - 19')",
         "201",
         "1465",
         "13.72013651877133"
        ],
        [
         "('Mujeres', '20 - 24')",
         "201",
         "1465",
         "13.72013651877133"
        ],
        [
         "('Mujeres', '25 - 29')",
         "143",
         "1465",
         "9.761092150170649"
        ],
        [
         "('Mujeres', '40 - 44')",
         "134",
         "1465",
         "9.146757679180888"
        ],
        [
         "('Mujeres', '35 - 39')",
         "126",
         "1465",
         "8.600682593856655"
        ],
        [
         "('Mujeres', '10 - 14')",
         "118",
         "1465",
         "8.054607508532422"
        ],
        [
         "('Mujeres', '30 - 34')",
         "117",
         "1465",
         "7.986348122866895"
        ],
        [
         "('Mujeres', '45 - 49')",
         "100",
         "1465",
         "6.825938566552901"
        ],
        [
         "('Mujeres', '65 y más')",
         "92",
         "1465",
         "6.279863481228669"
        ],
        [
         "('Mujeres', '50 - 54')",
         "72",
         "1465",
         "4.914675767918088"
        ],
        [
         "('Mujeres', '55 - 59')",
         "59",
         "1465",
         "4.027303754266211"
        ],
        [
         "('Mujeres', '60 - 64')",
         "57",
         "1465",
         "3.8907849829351533"
        ],
        [
         "('Mujeres', 'No declarado')",
         "36",
         "1465",
         "2.457337883959044"
        ],
        [
         "('Mujeres', '6 - 9')",
         "9",
         "1465",
         "0.614334470989761"
        ]
       ],
       "shape": {
        "columns": 3,
        "rows": 28
       }
      },
      "text/html": [
       "<div>\n",
       "<style scoped>\n",
       "    .dataframe tbody tr th:only-of-type {\n",
       "        vertical-align: middle;\n",
       "    }\n",
       "\n",
       "    .dataframe tbody tr th {\n",
       "        vertical-align: top;\n",
       "    }\n",
       "\n",
       "    .dataframe thead th {\n",
       "        text-align: right;\n",
       "    }\n",
       "</style>\n",
       "<table border=\"1\" class=\"dataframe\">\n",
       "  <thead>\n",
       "    <tr style=\"text-align: right;\">\n",
       "      <th></th>\n",
       "      <th></th>\n",
       "      <th>Conteo</th>\n",
       "      <th>Total por Sexo</th>\n",
       "      <th>Porcentaje (%)</th>\n",
       "    </tr>\n",
       "    <tr>\n",
       "      <th>sexo</th>\n",
       "      <th>grupoedad</th>\n",
       "      <th></th>\n",
       "      <th></th>\n",
       "      <th></th>\n",
       "    </tr>\n",
       "  </thead>\n",
       "  <tbody>\n",
       "    <tr>\n",
       "      <th rowspan=\"14\" valign=\"top\">Hombres</th>\n",
       "      <th>65 y más</th>\n",
       "      <td>1138</td>\n",
       "      <td>8570</td>\n",
       "      <td>13.28</td>\n",
       "    </tr>\n",
       "    <tr>\n",
       "      <th>25 - 29</th>\n",
       "      <td>856</td>\n",
       "      <td>8570</td>\n",
       "      <td>9.99</td>\n",
       "    </tr>\n",
       "    <tr>\n",
       "      <th>30 - 34</th>\n",
       "      <td>850</td>\n",
       "      <td>8570</td>\n",
       "      <td>9.92</td>\n",
       "    </tr>\n",
       "    <tr>\n",
       "      <th>20 - 24</th>\n",
       "      <td>823</td>\n",
       "      <td>8570</td>\n",
       "      <td>9.60</td>\n",
       "    </tr>\n",
       "    <tr>\n",
       "      <th>35 - 39</th>\n",
       "      <td>818</td>\n",
       "      <td>8570</td>\n",
       "      <td>9.54</td>\n",
       "    </tr>\n",
       "    <tr>\n",
       "      <th>40 - 44</th>\n",
       "      <td>767</td>\n",
       "      <td>8570</td>\n",
       "      <td>8.95</td>\n",
       "    </tr>\n",
       "    <tr>\n",
       "      <th>45 - 49</th>\n",
       "      <td>692</td>\n",
       "      <td>8570</td>\n",
       "      <td>8.07</td>\n",
       "    </tr>\n",
       "    <tr>\n",
       "      <th>50 - 54</th>\n",
       "      <td>670</td>\n",
       "      <td>8570</td>\n",
       "      <td>7.82</td>\n",
       "    </tr>\n",
       "    <tr>\n",
       "      <th>55 - 59</th>\n",
       "      <td>554</td>\n",
       "      <td>8570</td>\n",
       "      <td>6.46</td>\n",
       "    </tr>\n",
       "    <tr>\n",
       "      <th>60 - 64</th>\n",
       "      <td>476</td>\n",
       "      <td>8570</td>\n",
       "      <td>5.55</td>\n",
       "    </tr>\n",
       "    <tr>\n",
       "      <th>No declarado</th>\n",
       "      <td>396</td>\n",
       "      <td>8570</td>\n",
       "      <td>4.62</td>\n",
       "    </tr>\n",
       "    <tr>\n",
       "      <th>15 - 19</th>\n",
       "      <td>370</td>\n",
       "      <td>8570</td>\n",
       "      <td>4.32</td>\n",
       "    </tr>\n",
       "    <tr>\n",
       "      <th>10 - 14</th>\n",
       "      <td>138</td>\n",
       "      <td>8570</td>\n",
       "      <td>1.61</td>\n",
       "    </tr>\n",
       "    <tr>\n",
       "      <th>6 - 9</th>\n",
       "      <td>22</td>\n",
       "      <td>8570</td>\n",
       "      <td>0.26</td>\n",
       "    </tr>\n",
       "    <tr>\n",
       "      <th rowspan=\"14\" valign=\"top\">Mujeres</th>\n",
       "      <th>15 - 19</th>\n",
       "      <td>201</td>\n",
       "      <td>1465</td>\n",
       "      <td>13.72</td>\n",
       "    </tr>\n",
       "    <tr>\n",
       "      <th>20 - 24</th>\n",
       "      <td>201</td>\n",
       "      <td>1465</td>\n",
       "      <td>13.72</td>\n",
       "    </tr>\n",
       "    <tr>\n",
       "      <th>25 - 29</th>\n",
       "      <td>143</td>\n",
       "      <td>1465</td>\n",
       "      <td>9.76</td>\n",
       "    </tr>\n",
       "    <tr>\n",
       "      <th>40 - 44</th>\n",
       "      <td>134</td>\n",
       "      <td>1465</td>\n",
       "      <td>9.15</td>\n",
       "    </tr>\n",
       "    <tr>\n",
       "      <th>35 - 39</th>\n",
       "      <td>126</td>\n",
       "      <td>1465</td>\n",
       "      <td>8.60</td>\n",
       "    </tr>\n",
       "    <tr>\n",
       "      <th>10 - 14</th>\n",
       "      <td>118</td>\n",
       "      <td>1465</td>\n",
       "      <td>8.05</td>\n",
       "    </tr>\n",
       "    <tr>\n",
       "      <th>30 - 34</th>\n",
       "      <td>117</td>\n",
       "      <td>1465</td>\n",
       "      <td>7.99</td>\n",
       "    </tr>\n",
       "    <tr>\n",
       "      <th>45 - 49</th>\n",
       "      <td>100</td>\n",
       "      <td>1465</td>\n",
       "      <td>6.83</td>\n",
       "    </tr>\n",
       "    <tr>\n",
       "      <th>65 y más</th>\n",
       "      <td>92</td>\n",
       "      <td>1465</td>\n",
       "      <td>6.28</td>\n",
       "    </tr>\n",
       "    <tr>\n",
       "      <th>50 - 54</th>\n",
       "      <td>72</td>\n",
       "      <td>1465</td>\n",
       "      <td>4.91</td>\n",
       "    </tr>\n",
       "    <tr>\n",
       "      <th>55 - 59</th>\n",
       "      <td>59</td>\n",
       "      <td>1465</td>\n",
       "      <td>4.03</td>\n",
       "    </tr>\n",
       "    <tr>\n",
       "      <th>60 - 64</th>\n",
       "      <td>57</td>\n",
       "      <td>1465</td>\n",
       "      <td>3.89</td>\n",
       "    </tr>\n",
       "    <tr>\n",
       "      <th>No declarado</th>\n",
       "      <td>36</td>\n",
       "      <td>1465</td>\n",
       "      <td>2.46</td>\n",
       "    </tr>\n",
       "    <tr>\n",
       "      <th>6 - 9</th>\n",
       "      <td>9</td>\n",
       "      <td>1465</td>\n",
       "      <td>0.61</td>\n",
       "    </tr>\n",
       "  </tbody>\n",
       "</table>\n",
       "</div>"
      ],
      "text/plain": [
       "                      Conteo  Total por Sexo  Porcentaje (%)\n",
       "sexo    grupoedad                                           \n",
       "Hombres 65 y más        1138            8570           13.28\n",
       "        25 - 29          856            8570            9.99\n",
       "        30 - 34          850            8570            9.92\n",
       "        20 - 24          823            8570            9.60\n",
       "        35 - 39          818            8570            9.54\n",
       "        40 - 44          767            8570            8.95\n",
       "        45 - 49          692            8570            8.07\n",
       "        50 - 54          670            8570            7.82\n",
       "        55 - 59          554            8570            6.46\n",
       "        60 - 64          476            8570            5.55\n",
       "        No declarado     396            8570            4.62\n",
       "        15 - 19          370            8570            4.32\n",
       "        10 - 14          138            8570            1.61\n",
       "        6 - 9             22            8570            0.26\n",
       "Mujeres 15 - 19          201            1465           13.72\n",
       "        20 - 24          201            1465           13.72\n",
       "        25 - 29          143            1465            9.76\n",
       "        40 - 44          134            1465            9.15\n",
       "        35 - 39          126            1465            8.60\n",
       "        10 - 14          118            1465            8.05\n",
       "        30 - 34          117            1465            7.99\n",
       "        45 - 49          100            1465            6.83\n",
       "        65 y más          92            1465            6.28\n",
       "        50 - 54           72            1465            4.91\n",
       "        55 - 59           59            1465            4.03\n",
       "        60 - 64           57            1465            3.89\n",
       "        No declarado      36            1465            2.46\n",
       "        6 - 9              9            1465            0.61"
      ]
     },
     "execution_count": 12,
     "metadata": {},
     "output_type": "execute_result"
    }
   ],
   "source": [
    "df_genero_edad = df.groupby(['sexo', 'grupoedad'])[['region']].count().sort_values(by=['sexo', 'region'], ascending=[True, False])\n",
    "df_genero_edad.rename(columns={'region': 'Conteo'}, inplace=True)\n",
    "df_genero_edad['Total por Sexo'] = df_genero_edad.groupby(level=0)['Conteo'].transform('sum')\n",
    "df_genero_edad['Porcentaje (%)'] = (df_genero_edad['Conteo'] / df_genero_edad['Total por Sexo']) * 100\n",
    "df_genero_edad"
   ]
  }
 ],
 "metadata": {
  "kernelspec": {
   "display_name": "Python 3",
   "language": "python",
   "name": "python3"
  },
  "language_info": {
   "codemirror_mode": {
    "name": "ipython",
    "version": 3
   },
   "file_extension": ".py",
   "mimetype": "text/x-python",
   "name": "python",
   "nbconvert_exporter": "python",
   "pygments_lexer": "ipython3",
   "version": "3.11.9"
  }
 },
 "nbformat": 4,
 "nbformat_minor": 5
}
